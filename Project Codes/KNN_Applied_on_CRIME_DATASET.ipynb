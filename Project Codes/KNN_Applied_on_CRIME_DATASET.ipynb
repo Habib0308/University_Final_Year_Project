{
  "nbformat": 4,
  "nbformat_minor": 0,
  "metadata": {
    "colab": {
      "name": "KNN_Applied_on_CRIME_DATASET.ipynb",
      "provenance": [],
      "collapsed_sections": [],
      "machine_shape": "hm",
      "include_colab_link": true
    },
    "kernelspec": {
      "name": "python3",
      "display_name": "Python 3"
    },
    "accelerator": "TPU"
  },
  "cells": [
    {
      "cell_type": "markdown",
      "metadata": {
        "id": "view-in-github",
        "colab_type": "text"
      },
      "source": [
        "<a href=\"https://colab.research.google.com/github/Habib0308/University_Final_Year_Project/blob/master/Project%20Codes/KNN_Applied_on_CRIME_DATASET.ipynb\" target=\"_parent\"><img src=\"https://colab.research.google.com/assets/colab-badge.svg\" alt=\"Open In Colab\"/></a>"
      ]
    },
    {
      "cell_type": "code",
      "metadata": {
        "id": "aiuST90yZLqF",
        "colab_type": "code",
        "colab": {}
      },
      "source": [
        "#updates or installations"
      ],
      "execution_count": 0,
      "outputs": []
    },
    {
      "cell_type": "code",
      "metadata": {
        "id": "-wHws-qipk46",
        "colab_type": "code",
        "colab": {}
      },
      "source": [
        "#imports\n",
        "import pandas as pd\n",
        "import matplotlib.pyplot as plt\n",
        "from sklearn.preprocessing import LabelEncoder, OneHotEncoder\n",
        "from sklearn.preprocessing import Imputer\n",
        "import calendar"
      ],
      "execution_count": 0,
      "outputs": []
    },
    {
      "cell_type": "code",
      "metadata": {
        "id": "YY0tpa_2JOHt",
        "colab_type": "code",
        "colab": {}
      },
      "source": [
        "url=\"https://data.cityofchicago.org/api/views/x2n5-8w5q/rows.csv?accessType=DOWNLOAD\"\n",
        "df= pd.read_csv(url, encoding = \"utf-8\")"
      ],
      "execution_count": 0,
      "outputs": []
    },
    {
      "cell_type": "markdown",
      "metadata": {
        "id": "F6MBiURR_H5T",
        "colab_type": "text"
      },
      "source": [
        "#**Droping NULL Values**"
      ]
    },
    {
      "cell_type": "code",
      "metadata": {
        "id": "StBteesh_GtM",
        "colab_type": "code",
        "colab": {}
      },
      "source": [
        "df = df.dropna(how='any',axis=0)"
      ],
      "execution_count": 0,
      "outputs": []
    },
    {
      "cell_type": "markdown",
      "metadata": {
        "id": "zV4TEQKf9Y1S",
        "colab_type": "text"
      },
      "source": [
        "#**Counting Rows and Columns**"
      ]
    },
    {
      "cell_type": "code",
      "metadata": {
        "id": "dUaATxwAZ9oT",
        "colab_type": "code",
        "outputId": "4aef31fb-92e2-4def-f8cd-4454e1f13d72",
        "colab": {
          "base_uri": "https://localhost:8080/",
          "height": 51
        }
      },
      "source": [
        "print(\"Columns\", df.columns.size)\n",
        "print(\"Rows\", df.size)"
      ],
      "execution_count": 89,
      "outputs": [
        {
          "output_type": "stream",
          "text": [
            "Columns 17\n",
            "Rows 4340253\n"
          ],
          "name": "stdout"
        }
      ]
    },
    {
      "cell_type": "markdown",
      "metadata": {
        "id": "_9EChEuH9iQL",
        "colab_type": "text"
      },
      "source": [
        "#**COLUMNS of ORIGINAL DF**"
      ]
    },
    {
      "cell_type": "code",
      "metadata": {
        "id": "KH1PGO033vZ8",
        "colab_type": "code",
        "outputId": "7de5d68d-97ce-4e56-b26e-b7df6762f233",
        "colab": {
          "base_uri": "https://localhost:8080/",
          "height": 102
        }
      },
      "source": [
        "print(\"Columns\", df.columns)"
      ],
      "execution_count": 90,
      "outputs": [
        {
          "output_type": "stream",
          "text": [
            "Columns Index(['CASE#', 'DATE  OF OCCURRENCE', 'BLOCK', ' IUCR',\n",
            "       ' PRIMARY DESCRIPTION', ' SECONDARY DESCRIPTION',\n",
            "       ' LOCATION DESCRIPTION', 'ARREST', 'DOMESTIC', 'BEAT', 'WARD', 'FBI CD',\n",
            "       'X COORDINATE', 'Y COORDINATE', 'LATITUDE', 'LONGITUDE', 'LOCATION'],\n",
            "      dtype='object')\n"
          ],
          "name": "stdout"
        }
      ]
    },
    {
      "cell_type": "markdown",
      "metadata": {
        "colab_type": "text",
        "id": "ukLmeiuZ8U3-"
      },
      "source": [
        "#**Extracting Month, Year, Weekday, Hour for more better results**"
      ]
    },
    {
      "cell_type": "code",
      "metadata": {
        "id": "p7_Te_LRumy0",
        "colab_type": "code",
        "colab": {}
      },
      "source": [
        "df[\"DATE  OF OCCURRENCE\"] = pd.to_datetime(df[\"DATE  OF OCCURRENCE\"], format=\"%m/%d/%Y %I:%M:%S %p\")\n",
        "#https://pandas.pydata.org/pandas-docs/stable/reference/api/pandas.to_datetime.html\n",
        "#https://docs.python.org/3/library/datetime.html#strftime-and-strptime-behavior"
      ],
      "execution_count": 0,
      "outputs": []
    },
    {
      "cell_type": "code",
      "metadata": {
        "id": "VCCCKg_7pz2X",
        "colab_type": "code",
        "colab": {}
      },
      "source": [
        "#https://pandas.pydata.org/pandas-docs/version/0.23.4/generated/pandas.DatetimeIndex.html\n",
        "df['year'] = pd.DatetimeIndex(df[\"DATE  OF OCCURRENCE\"]).year\n",
        "df['month'] = pd.DatetimeIndex(df[\"DATE  OF OCCURRENCE\"]).month\n",
        "df['hour'] = pd.DatetimeIndex(df[\"DATE  OF OCCURRENCE\"]).hour\n",
        "df['weekday'] = df['DATE  OF OCCURRENCE'].dt.weekday_name\n",
        "df['month'] = df['month'].apply(lambda x: calendar.month_abbr[x])\n",
        "df.set_index(\"DATE  OF OCCURRENCE\", inplace=True)\n",
        "df.sort_index(inplace=True)\n",
        "#df['Weekday']=pd.DatetimeIndex(df[\"DATE  OF OCCURRENCE\"]).dayofweek\n",
        "#df['day_of_week'] = df['Order Date'].dt.weekday_name\n",
        "#https://stackoverflow.com/questions/30222533/create-a-day-of-week-column-in-a-pandas-dataframe-using-python"
      ],
      "execution_count": 0,
      "outputs": []
    },
    {
      "cell_type": "markdown",
      "metadata": {
        "id": "MVHzm4Xj9AE9",
        "colab_type": "text"
      },
      "source": [
        "#**Deleting COLUMNS**"
      ]
    },
    {
      "cell_type": "code",
      "metadata": {
        "id": "LIHEa5kWVRMG",
        "colab_type": "code",
        "colab": {}
      },
      "source": [
        "del df[\"WARD\"]#The ward (City Council district) where the incident occurred.\n",
        "del df[\"BEAT\"]#Indicates the beat where the incident occurred. A beat is the smallest police geographic area\n",
        "del df[\"DOMESTIC\"]#Indicates whether the incident was domestic-related as defined by the Illinois Domestic Violence Act.\n",
        "del df[\" SECONDARY DESCRIPTION\"]\n",
        "del df[\" LOCATION DESCRIPTION\"]\n",
        "del df[\"FBI CD\"]#Indicates the crime classification as outlined in the FBI's National Incident-Based Reporting System (NIBRS)\n",
        "del df[\"CASE#\"]\n",
        "del df['X COORDINATE']\n",
        "del df['Y COORDINATE']\n",
        "del df[\"LATITUDE\"]\n",
        "del df[\"LONGITUDE\"]\n",
        "del df[\"LOCATION\"]"
      ],
      "execution_count": 0,
      "outputs": []
    },
    {
      "cell_type": "code",
      "metadata": {
        "id": "XTn1S8bYtvtt",
        "colab_type": "code",
        "outputId": "da82421c-0c11-403a-8f3a-d570aa6b9a4d",
        "colab": {
          "base_uri": "https://localhost:8080/",
          "height": 235
        }
      },
      "source": [
        "df.head()"
      ],
      "execution_count": 94,
      "outputs": [
        {
          "output_type": "execute_result",
          "data": {
            "text/html": [
              "<div>\n",
              "<style scoped>\n",
              "    .dataframe tbody tr th:only-of-type {\n",
              "        vertical-align: middle;\n",
              "    }\n",
              "\n",
              "    .dataframe tbody tr th {\n",
              "        vertical-align: top;\n",
              "    }\n",
              "\n",
              "    .dataframe thead th {\n",
              "        text-align: right;\n",
              "    }\n",
              "</style>\n",
              "<table border=\"1\" class=\"dataframe\">\n",
              "  <thead>\n",
              "    <tr style=\"text-align: right;\">\n",
              "      <th></th>\n",
              "      <th>BLOCK</th>\n",
              "      <th>IUCR</th>\n",
              "      <th>PRIMARY DESCRIPTION</th>\n",
              "      <th>ARREST</th>\n",
              "      <th>year</th>\n",
              "      <th>month</th>\n",
              "      <th>hour</th>\n",
              "      <th>weekday</th>\n",
              "    </tr>\n",
              "    <tr>\n",
              "      <th>DATE  OF OCCURRENCE</th>\n",
              "      <th></th>\n",
              "      <th></th>\n",
              "      <th></th>\n",
              "      <th></th>\n",
              "      <th></th>\n",
              "      <th></th>\n",
              "      <th></th>\n",
              "      <th></th>\n",
              "    </tr>\n",
              "  </thead>\n",
              "  <tbody>\n",
              "    <tr>\n",
              "      <th>2018-12-01 05:03:00</th>\n",
              "      <td>032XX E 91ST ST</td>\n",
              "      <td>1150</td>\n",
              "      <td>DECEPTIVE PRACTICE</td>\n",
              "      <td>N</td>\n",
              "      <td>2018</td>\n",
              "      <td>Dec</td>\n",
              "      <td>5</td>\n",
              "      <td>Saturday</td>\n",
              "    </tr>\n",
              "    <tr>\n",
              "      <th>2018-12-01 05:08:00</th>\n",
              "      <td>025XX N MILWAUKEE AVE</td>\n",
              "      <td>0820</td>\n",
              "      <td>THEFT</td>\n",
              "      <td>N</td>\n",
              "      <td>2018</td>\n",
              "      <td>Dec</td>\n",
              "      <td>5</td>\n",
              "      <td>Saturday</td>\n",
              "    </tr>\n",
              "    <tr>\n",
              "      <th>2018-12-01 05:15:00</th>\n",
              "      <td>067XX S CHAPPEL AVE</td>\n",
              "      <td>0560</td>\n",
              "      <td>ASSAULT</td>\n",
              "      <td>N</td>\n",
              "      <td>2018</td>\n",
              "      <td>Dec</td>\n",
              "      <td>5</td>\n",
              "      <td>Saturday</td>\n",
              "    </tr>\n",
              "    <tr>\n",
              "      <th>2018-12-01 05:15:00</th>\n",
              "      <td>047XX N KEDZIE AVE</td>\n",
              "      <td>031A</td>\n",
              "      <td>ROBBERY</td>\n",
              "      <td>N</td>\n",
              "      <td>2018</td>\n",
              "      <td>Dec</td>\n",
              "      <td>5</td>\n",
              "      <td>Saturday</td>\n",
              "    </tr>\n",
              "    <tr>\n",
              "      <th>2018-12-01 05:15:00</th>\n",
              "      <td>063XX S STATE ST</td>\n",
              "      <td>0430</td>\n",
              "      <td>BATTERY</td>\n",
              "      <td>N</td>\n",
              "      <td>2018</td>\n",
              "      <td>Dec</td>\n",
              "      <td>5</td>\n",
              "      <td>Saturday</td>\n",
              "    </tr>\n",
              "  </tbody>\n",
              "</table>\n",
              "</div>"
            ],
            "text/plain": [
              "                                     BLOCK  IUCR  ... hour   weekday\n",
              "DATE  OF OCCURRENCE                               ...               \n",
              "2018-12-01 05:03:00        032XX E 91ST ST  1150  ...    5  Saturday\n",
              "2018-12-01 05:08:00  025XX N MILWAUKEE AVE  0820  ...    5  Saturday\n",
              "2018-12-01 05:15:00    067XX S CHAPPEL AVE  0560  ...    5  Saturday\n",
              "2018-12-01 05:15:00     047XX N KEDZIE AVE  031A  ...    5  Saturday\n",
              "2018-12-01 05:15:00       063XX S STATE ST  0430  ...    5  Saturday\n",
              "\n",
              "[5 rows x 8 columns]"
            ]
          },
          "metadata": {
            "tags": []
          },
          "execution_count": 94
        }
      ]
    },
    {
      "cell_type": "code",
      "metadata": {
        "id": "kuBSrROozhar",
        "colab_type": "code",
        "outputId": "76585c40-cba5-43df-a0a5-8ae993f59fcf",
        "colab": {
          "base_uri": "https://localhost:8080/",
          "height": 235
        }
      },
      "source": [
        "df.head()"
      ],
      "execution_count": 95,
      "outputs": [
        {
          "output_type": "execute_result",
          "data": {
            "text/html": [
              "<div>\n",
              "<style scoped>\n",
              "    .dataframe tbody tr th:only-of-type {\n",
              "        vertical-align: middle;\n",
              "    }\n",
              "\n",
              "    .dataframe tbody tr th {\n",
              "        vertical-align: top;\n",
              "    }\n",
              "\n",
              "    .dataframe thead th {\n",
              "        text-align: right;\n",
              "    }\n",
              "</style>\n",
              "<table border=\"1\" class=\"dataframe\">\n",
              "  <thead>\n",
              "    <tr style=\"text-align: right;\">\n",
              "      <th></th>\n",
              "      <th>BLOCK</th>\n",
              "      <th>IUCR</th>\n",
              "      <th>PRIMARY DESCRIPTION</th>\n",
              "      <th>ARREST</th>\n",
              "      <th>year</th>\n",
              "      <th>month</th>\n",
              "      <th>hour</th>\n",
              "      <th>weekday</th>\n",
              "    </tr>\n",
              "    <tr>\n",
              "      <th>DATE  OF OCCURRENCE</th>\n",
              "      <th></th>\n",
              "      <th></th>\n",
              "      <th></th>\n",
              "      <th></th>\n",
              "      <th></th>\n",
              "      <th></th>\n",
              "      <th></th>\n",
              "      <th></th>\n",
              "    </tr>\n",
              "  </thead>\n",
              "  <tbody>\n",
              "    <tr>\n",
              "      <th>2018-12-01 05:03:00</th>\n",
              "      <td>032XX E 91ST ST</td>\n",
              "      <td>1150</td>\n",
              "      <td>DECEPTIVE PRACTICE</td>\n",
              "      <td>N</td>\n",
              "      <td>2018</td>\n",
              "      <td>Dec</td>\n",
              "      <td>5</td>\n",
              "      <td>Saturday</td>\n",
              "    </tr>\n",
              "    <tr>\n",
              "      <th>2018-12-01 05:08:00</th>\n",
              "      <td>025XX N MILWAUKEE AVE</td>\n",
              "      <td>0820</td>\n",
              "      <td>THEFT</td>\n",
              "      <td>N</td>\n",
              "      <td>2018</td>\n",
              "      <td>Dec</td>\n",
              "      <td>5</td>\n",
              "      <td>Saturday</td>\n",
              "    </tr>\n",
              "    <tr>\n",
              "      <th>2018-12-01 05:15:00</th>\n",
              "      <td>067XX S CHAPPEL AVE</td>\n",
              "      <td>0560</td>\n",
              "      <td>ASSAULT</td>\n",
              "      <td>N</td>\n",
              "      <td>2018</td>\n",
              "      <td>Dec</td>\n",
              "      <td>5</td>\n",
              "      <td>Saturday</td>\n",
              "    </tr>\n",
              "    <tr>\n",
              "      <th>2018-12-01 05:15:00</th>\n",
              "      <td>047XX N KEDZIE AVE</td>\n",
              "      <td>031A</td>\n",
              "      <td>ROBBERY</td>\n",
              "      <td>N</td>\n",
              "      <td>2018</td>\n",
              "      <td>Dec</td>\n",
              "      <td>5</td>\n",
              "      <td>Saturday</td>\n",
              "    </tr>\n",
              "    <tr>\n",
              "      <th>2018-12-01 05:15:00</th>\n",
              "      <td>063XX S STATE ST</td>\n",
              "      <td>0430</td>\n",
              "      <td>BATTERY</td>\n",
              "      <td>N</td>\n",
              "      <td>2018</td>\n",
              "      <td>Dec</td>\n",
              "      <td>5</td>\n",
              "      <td>Saturday</td>\n",
              "    </tr>\n",
              "  </tbody>\n",
              "</table>\n",
              "</div>"
            ],
            "text/plain": [
              "                                     BLOCK  IUCR  ... hour   weekday\n",
              "DATE  OF OCCURRENCE                               ...               \n",
              "2018-12-01 05:03:00        032XX E 91ST ST  1150  ...    5  Saturday\n",
              "2018-12-01 05:08:00  025XX N MILWAUKEE AVE  0820  ...    5  Saturday\n",
              "2018-12-01 05:15:00    067XX S CHAPPEL AVE  0560  ...    5  Saturday\n",
              "2018-12-01 05:15:00     047XX N KEDZIE AVE  031A  ...    5  Saturday\n",
              "2018-12-01 05:15:00       063XX S STATE ST  0430  ...    5  Saturday\n",
              "\n",
              "[5 rows x 8 columns]"
            ]
          },
          "metadata": {
            "tags": []
          },
          "execution_count": 95
        }
      ]
    },
    {
      "cell_type": "code",
      "metadata": {
        "id": "R4IZZVllzmJZ",
        "colab_type": "code",
        "outputId": "1e5fc4c1-f6ea-4c43-bf60-3b27ac0a1e4a",
        "colab": {
          "base_uri": "https://localhost:8080/",
          "height": 68
        }
      },
      "source": [
        "df.columns"
      ],
      "execution_count": 96,
      "outputs": [
        {
          "output_type": "execute_result",
          "data": {
            "text/plain": [
              "Index(['BLOCK', ' IUCR', ' PRIMARY DESCRIPTION', 'ARREST', 'year', 'month',\n",
              "       'hour', 'weekday'],\n",
              "      dtype='object')"
            ]
          },
          "metadata": {
            "tags": []
          },
          "execution_count": 96
        }
      ]
    },
    {
      "cell_type": "code",
      "metadata": {
        "id": "f6sEXZy480Iv",
        "colab_type": "code",
        "outputId": "4a9c7364-fcf7-465f-8925-8dc148d07e04",
        "colab": {
          "base_uri": "https://localhost:8080/",
          "height": 173
        }
      },
      "source": [
        "df.head(3)"
      ],
      "execution_count": 97,
      "outputs": [
        {
          "output_type": "execute_result",
          "data": {
            "text/html": [
              "<div>\n",
              "<style scoped>\n",
              "    .dataframe tbody tr th:only-of-type {\n",
              "        vertical-align: middle;\n",
              "    }\n",
              "\n",
              "    .dataframe tbody tr th {\n",
              "        vertical-align: top;\n",
              "    }\n",
              "\n",
              "    .dataframe thead th {\n",
              "        text-align: right;\n",
              "    }\n",
              "</style>\n",
              "<table border=\"1\" class=\"dataframe\">\n",
              "  <thead>\n",
              "    <tr style=\"text-align: right;\">\n",
              "      <th></th>\n",
              "      <th>BLOCK</th>\n",
              "      <th>IUCR</th>\n",
              "      <th>PRIMARY DESCRIPTION</th>\n",
              "      <th>ARREST</th>\n",
              "      <th>year</th>\n",
              "      <th>month</th>\n",
              "      <th>hour</th>\n",
              "      <th>weekday</th>\n",
              "    </tr>\n",
              "    <tr>\n",
              "      <th>DATE  OF OCCURRENCE</th>\n",
              "      <th></th>\n",
              "      <th></th>\n",
              "      <th></th>\n",
              "      <th></th>\n",
              "      <th></th>\n",
              "      <th></th>\n",
              "      <th></th>\n",
              "      <th></th>\n",
              "    </tr>\n",
              "  </thead>\n",
              "  <tbody>\n",
              "    <tr>\n",
              "      <th>2018-12-01 05:03:00</th>\n",
              "      <td>032XX E 91ST ST</td>\n",
              "      <td>1150</td>\n",
              "      <td>DECEPTIVE PRACTICE</td>\n",
              "      <td>N</td>\n",
              "      <td>2018</td>\n",
              "      <td>Dec</td>\n",
              "      <td>5</td>\n",
              "      <td>Saturday</td>\n",
              "    </tr>\n",
              "    <tr>\n",
              "      <th>2018-12-01 05:08:00</th>\n",
              "      <td>025XX N MILWAUKEE AVE</td>\n",
              "      <td>0820</td>\n",
              "      <td>THEFT</td>\n",
              "      <td>N</td>\n",
              "      <td>2018</td>\n",
              "      <td>Dec</td>\n",
              "      <td>5</td>\n",
              "      <td>Saturday</td>\n",
              "    </tr>\n",
              "    <tr>\n",
              "      <th>2018-12-01 05:15:00</th>\n",
              "      <td>067XX S CHAPPEL AVE</td>\n",
              "      <td>0560</td>\n",
              "      <td>ASSAULT</td>\n",
              "      <td>N</td>\n",
              "      <td>2018</td>\n",
              "      <td>Dec</td>\n",
              "      <td>5</td>\n",
              "      <td>Saturday</td>\n",
              "    </tr>\n",
              "  </tbody>\n",
              "</table>\n",
              "</div>"
            ],
            "text/plain": [
              "                                     BLOCK  IUCR  ... hour   weekday\n",
              "DATE  OF OCCURRENCE                               ...               \n",
              "2018-12-01 05:03:00        032XX E 91ST ST  1150  ...    5  Saturday\n",
              "2018-12-01 05:08:00  025XX N MILWAUKEE AVE  0820  ...    5  Saturday\n",
              "2018-12-01 05:15:00    067XX S CHAPPEL AVE  0560  ...    5  Saturday\n",
              "\n",
              "[3 rows x 8 columns]"
            ]
          },
          "metadata": {
            "tags": []
          },
          "execution_count": 97
        }
      ]
    },
    {
      "cell_type": "code",
      "metadata": {
        "id": "75450tqT8J55",
        "colab_type": "code",
        "colab": {}
      },
      "source": [
        "#counting crimes\n",
        "#crimes=df.groupby(by=[' PRIMARY DESCRIPTION']).size().sort_values(ascending=False)\n",
        "#https://pandas.pydata.org/pandas-docs/stable/reference/api/pandas.DataFrame.groupby.html\n",
        "#print(crimes)"
      ],
      "execution_count": 0,
      "outputs": []
    },
    {
      "cell_type": "code",
      "metadata": {
        "id": "96OM0y0A4Mp5",
        "colab_type": "code",
        "outputId": "4bcdaba2-cc3d-437f-b4a0-c2c815fb7b8b",
        "colab": {
          "base_uri": "https://localhost:8080/",
          "height": 68
        }
      },
      "source": [
        "df.columns"
      ],
      "execution_count": 99,
      "outputs": [
        {
          "output_type": "execute_result",
          "data": {
            "text/plain": [
              "Index(['BLOCK', ' IUCR', ' PRIMARY DESCRIPTION', 'ARREST', 'year', 'month',\n",
              "       'hour', 'weekday'],\n",
              "      dtype='object')"
            ]
          },
          "metadata": {
            "tags": []
          },
          "execution_count": 99
        }
      ]
    },
    {
      "cell_type": "markdown",
      "metadata": {
        "id": "9D4rDKzg_Udi",
        "colab_type": "text"
      },
      "source": [
        "Locations are too much. if i focus on data by block than it can work out well"
      ]
    },
    {
      "cell_type": "markdown",
      "metadata": {
        "id": "vxAxnFLE6atw",
        "colab_type": "text"
      },
      "source": [
        "del df[\"LOCATION\"]"
      ]
    },
    {
      "cell_type": "code",
      "metadata": {
        "id": "DY6HcSGu-o8F",
        "colab_type": "code",
        "outputId": "370402e4-df0d-45dc-9244-e7de1c2829bc",
        "colab": {
          "base_uri": "https://localhost:8080/",
          "height": 54
        }
      },
      "source": [
        "\"\"\"\n",
        "location_count = df.groupby(' LOCATION DESCRIPTION').size().sort_values(ascending=False)\n",
        "pd.DataFrame(location_count)\n",
        "location_count.head()\n",
        "Locations with highest occurence of crime\n",
        "\"\"\""
      ],
      "execution_count": 100,
      "outputs": [
        {
          "output_type": "execute_result",
          "data": {
            "text/plain": [
              "\"\\nlocation_count = df.groupby(' LOCATION DESCRIPTION').size().sort_values(ascending=False)\\npd.DataFrame(location_count)\\nlocation_count.head()\\nLocations with highest occurence of crime\\n\""
            ]
          },
          "metadata": {
            "tags": []
          },
          "execution_count": 100
        }
      ]
    },
    {
      "cell_type": "code",
      "metadata": {
        "id": "HDy0W7OZ_qXz",
        "colab_type": "code",
        "outputId": "6350e48b-5cdf-45b6-af82-faf735e9d05b",
        "colab": {
          "base_uri": "https://localhost:8080/",
          "height": 68
        }
      },
      "source": [
        "df.columns"
      ],
      "execution_count": 101,
      "outputs": [
        {
          "output_type": "execute_result",
          "data": {
            "text/plain": [
              "Index(['BLOCK', ' IUCR', ' PRIMARY DESCRIPTION', 'ARREST', 'year', 'month',\n",
              "       'hour', 'weekday'],\n",
              "      dtype='object')"
            ]
          },
          "metadata": {
            "tags": []
          },
          "execution_count": 101
        }
      ]
    },
    {
      "cell_type": "markdown",
      "metadata": {
        "id": "3yMysHe690hy",
        "colab_type": "text"
      },
      "source": [
        "#**Checking TOP 10 CRIMES for extractinng and using specific categories from dataframe**"
      ]
    },
    {
      "cell_type": "code",
      "metadata": {
        "id": "TwfN2i7cyqzS",
        "colab_type": "code",
        "outputId": "56b35d8f-da07-432c-ad91-d5cb5d5c9a74",
        "colab": {
          "base_uri": "https://localhost:8080/",
          "height": 221
        }
      },
      "source": [
        "crime_count = df.groupby(' IUCR').size().sort_values(ascending=False)\n",
        "list(crime_count)\n",
        "crime_count.head(10)\n",
        "#Crimes with highest occurence"
      ],
      "execution_count": 102,
      "outputs": [
        {
          "output_type": "execute_result",
          "data": {
            "text/plain": [
              " IUCR\n",
              "0486    23626\n",
              "0820    22560\n",
              "0460    16294\n",
              "0810    14407\n",
              "0560    13860\n",
              "1310    12887\n",
              "1320    12124\n",
              "0860    10703\n",
              "0890    10293\n",
              "0910     7950\n",
              "dtype: int64"
            ]
          },
          "metadata": {
            "tags": []
          },
          "execution_count": 102
        }
      ]
    },
    {
      "cell_type": "markdown",
      "metadata": {
        "id": "VriiZ421uZOf",
        "colab_type": "text"
      },
      "source": [
        "#**SELECTING only some categories from IUCR column**"
      ]
    },
    {
      "cell_type": "code",
      "metadata": {
        "id": "4lj5sokOuVP_",
        "colab_type": "code",
        "colab": {}
      },
      "source": [
        "#https://www.interviewqs.com/ddi_code_snippets/rows_cols_python\n",
        "c1= \"0486\"\n",
        "c2= \"0820\"\n",
        "c3= \"0460\"\n",
        "c4= \"0810\"\n",
        "c5= \"0560\"\n",
        "c6= \"1310\"\n",
        "c7= \"1320\"\n",
        "c8= \"0860\"\n",
        "c9= \"0890\"\n",
        "c10=\"0910\"\n",
        "array = [c1,c2,c3,c4,c5,c6,c7,c8,c9,c10]\n",
        "df2= df.loc[df[' IUCR'].isin(array)]"
      ],
      "execution_count": 0,
      "outputs": []
    },
    {
      "cell_type": "code",
      "metadata": {
        "id": "OYTjGtAK4rw9",
        "colab_type": "code",
        "outputId": "5f4e5717-aa97-4371-eedd-ef9591dd697c",
        "colab": {
          "base_uri": "https://localhost:8080/",
          "height": 68
        }
      },
      "source": [
        "print(\"DF \", df.size)\n",
        "print(\"DF2\", df2.size)\n",
        "print(\"difference of: \", df.size-df2.size)"
      ],
      "execution_count": 104,
      "outputs": [
        {
          "output_type": "stream",
          "text": [
            "DF  2042472\n",
            "DF2 1157632\n",
            "difference of:  884840\n"
          ],
          "name": "stdout"
        }
      ]
    },
    {
      "cell_type": "code",
      "metadata": {
        "id": "7_RFUf3P6sV-",
        "colab_type": "code",
        "outputId": "886fcf39-1c69-44a4-d6c6-60c2638cb2e7",
        "colab": {
          "base_uri": "https://localhost:8080/",
          "height": 173
        }
      },
      "source": [
        "df2.head(3)"
      ],
      "execution_count": 105,
      "outputs": [
        {
          "output_type": "execute_result",
          "data": {
            "text/html": [
              "<div>\n",
              "<style scoped>\n",
              "    .dataframe tbody tr th:only-of-type {\n",
              "        vertical-align: middle;\n",
              "    }\n",
              "\n",
              "    .dataframe tbody tr th {\n",
              "        vertical-align: top;\n",
              "    }\n",
              "\n",
              "    .dataframe thead th {\n",
              "        text-align: right;\n",
              "    }\n",
              "</style>\n",
              "<table border=\"1\" class=\"dataframe\">\n",
              "  <thead>\n",
              "    <tr style=\"text-align: right;\">\n",
              "      <th></th>\n",
              "      <th>BLOCK</th>\n",
              "      <th>IUCR</th>\n",
              "      <th>PRIMARY DESCRIPTION</th>\n",
              "      <th>ARREST</th>\n",
              "      <th>year</th>\n",
              "      <th>month</th>\n",
              "      <th>hour</th>\n",
              "      <th>weekday</th>\n",
              "    </tr>\n",
              "    <tr>\n",
              "      <th>DATE  OF OCCURRENCE</th>\n",
              "      <th></th>\n",
              "      <th></th>\n",
              "      <th></th>\n",
              "      <th></th>\n",
              "      <th></th>\n",
              "      <th></th>\n",
              "      <th></th>\n",
              "      <th></th>\n",
              "    </tr>\n",
              "  </thead>\n",
              "  <tbody>\n",
              "    <tr>\n",
              "      <th>2018-12-01 05:08:00</th>\n",
              "      <td>025XX N MILWAUKEE AVE</td>\n",
              "      <td>0820</td>\n",
              "      <td>THEFT</td>\n",
              "      <td>N</td>\n",
              "      <td>2018</td>\n",
              "      <td>Dec</td>\n",
              "      <td>5</td>\n",
              "      <td>Saturday</td>\n",
              "    </tr>\n",
              "    <tr>\n",
              "      <th>2018-12-01 05:15:00</th>\n",
              "      <td>067XX S CHAPPEL AVE</td>\n",
              "      <td>0560</td>\n",
              "      <td>ASSAULT</td>\n",
              "      <td>N</td>\n",
              "      <td>2018</td>\n",
              "      <td>Dec</td>\n",
              "      <td>5</td>\n",
              "      <td>Saturday</td>\n",
              "    </tr>\n",
              "    <tr>\n",
              "      <th>2018-12-01 05:15:00</th>\n",
              "      <td>079XX S LANGLEY AVE</td>\n",
              "      <td>0486</td>\n",
              "      <td>BATTERY</td>\n",
              "      <td>N</td>\n",
              "      <td>2018</td>\n",
              "      <td>Dec</td>\n",
              "      <td>5</td>\n",
              "      <td>Saturday</td>\n",
              "    </tr>\n",
              "  </tbody>\n",
              "</table>\n",
              "</div>"
            ],
            "text/plain": [
              "                                     BLOCK  IUCR  ... hour   weekday\n",
              "DATE  OF OCCURRENCE                               ...               \n",
              "2018-12-01 05:08:00  025XX N MILWAUKEE AVE  0820  ...    5  Saturday\n",
              "2018-12-01 05:15:00    067XX S CHAPPEL AVE  0560  ...    5  Saturday\n",
              "2018-12-01 05:15:00    079XX S LANGLEY AVE  0486  ...    5  Saturday\n",
              "\n",
              "[3 rows x 8 columns]"
            ]
          },
          "metadata": {
            "tags": []
          },
          "execution_count": 105
        }
      ]
    },
    {
      "cell_type": "markdown",
      "metadata": {
        "id": "SZCbPkQYAEpA",
        "colab_type": "text"
      },
      "source": [
        "#**Selecting X and Y from our dataset**"
      ]
    },
    {
      "cell_type": "code",
      "metadata": {
        "id": "Pnn_uas4Bkpi",
        "colab_type": "code",
        "outputId": "55321c62-7fb0-4663-9dca-8aad9caecce7",
        "colab": {
          "base_uri": "https://localhost:8080/",
          "height": 68
        }
      },
      "source": [
        "df2.columns"
      ],
      "execution_count": 106,
      "outputs": [
        {
          "output_type": "execute_result",
          "data": {
            "text/plain": [
              "Index(['BLOCK', ' IUCR', ' PRIMARY DESCRIPTION', 'ARREST', 'year', 'month',\n",
              "       'hour', 'weekday'],\n",
              "      dtype='object')"
            ]
          },
          "metadata": {
            "tags": []
          },
          "execution_count": 106
        }
      ]
    },
    {
      "cell_type": "code",
      "metadata": {
        "id": "0MgWSpJIX7pR",
        "colab_type": "code",
        "colab": {}
      },
      "source": [
        "#X= df.loc[:, ['BLOCK',' IUCR', ' PRIMARY DESCRIPTION',' LOCATION DESCRIPTION','year','month','hour','Weekday']].values\n",
        "#https://pandas.pydata.org/pandas-docs/stable/reference/api/pandas.DataFrame.iloc.html\n",
        "X= df2.iloc[:, [1,2,3,4,5,6,7]].values\n",
        "Y= df2.iloc[:, df.columns.get_loc('BLOCK')].values\n"
      ],
      "execution_count": 0,
      "outputs": []
    },
    {
      "cell_type": "code",
      "metadata": {
        "id": "MsK52GsO7LNt",
        "colab_type": "code",
        "outputId": "acacb52a-6899-438c-b8e2-3463998ef2b0",
        "colab": {
          "base_uri": "https://localhost:8080/",
          "height": 68
        }
      },
      "source": [
        "df2.columns"
      ],
      "execution_count": 108,
      "outputs": [
        {
          "output_type": "execute_result",
          "data": {
            "text/plain": [
              "Index(['BLOCK', ' IUCR', ' PRIMARY DESCRIPTION', 'ARREST', 'year', 'month',\n",
              "       'hour', 'weekday'],\n",
              "      dtype='object')"
            ]
          },
          "metadata": {
            "tags": []
          },
          "execution_count": 108
        }
      ]
    },
    {
      "cell_type": "markdown",
      "metadata": {
        "id": "fkhFHmXe9IsN",
        "colab_type": "text"
      },
      "source": [
        "#**How many columns will be formed after Label Encoding**(Later on)"
      ]
    },
    {
      "cell_type": "code",
      "metadata": {
        "id": "9RQfL9xe8RO-",
        "colab_type": "code",
        "outputId": "52a1401d-a296-4958-ef17-ca3edaa4367b",
        "colab": {
          "base_uri": "https://localhost:8080/",
          "height": 153
        }
      },
      "source": [
        "#checking \n",
        "iucr=     len(df2[\" IUCR\"].unique())\n",
        "prim_des= len(df2[\" PRIMARY DESCRIPTION\"].unique())\n",
        "arest=     len(df2[\"ARREST\"].unique())\n",
        "y=     len(df2[\"year\"].unique())\n",
        "m=    len(df2[\"month\"].unique())\n",
        "h=     len(df2[\"hour\"].unique())\n",
        "w=  len(df2[\"weekday\"].unique())\n",
        "print(\"IUCR: \", iucr)\n",
        "print(\"PRIMARY DESCRIPTION: \", prim_des)\n",
        "print(\"Arest: \", arest)\n",
        "print(\"year: \", y)\n",
        "print(\"hour: \", h)\n",
        "print(\"month: \", m)\n",
        "print(\"weekday: \", w)\n",
        "print(\"After Label Encoder, Total columns Will be:\", iucr+prim_des+arest+y+h+m+w)"
      ],
      "execution_count": 109,
      "outputs": [
        {
          "output_type": "stream",
          "text": [
            "IUCR:  10\n",
            "PRIMARY DESCRIPTION:  5\n",
            "Arest:  2\n",
            "year:  2\n",
            "hour:  24\n",
            "month:  12\n",
            "weekday:  7\n",
            "After Label Encoder, Total columns Will be: 62\n"
          ],
          "name": "stdout"
        }
      ]
    },
    {
      "cell_type": "markdown",
      "metadata": {
        "id": "gl4hqaOVdrsG",
        "colab_type": "text"
      },
      "source": [
        "**.value** Returns a Numpy representation of the DataFrame.\n",
        "Only the values in the DataFrame will be returned, the axes labels will be removed."
      ]
    },
    {
      "cell_type": "markdown",
      "metadata": {
        "id": "tUVRhblPg7sr",
        "colab_type": "text"
      },
      "source": [
        "Checking which are Categorical columns\n",
        "\n",
        "https://www.datacamp.com/community/tutorials/categorical-data#exploration\n",
        "\n",
        "The columns with object dtype are the possible categorical features in your dataset."
      ]
    },
    {
      "cell_type": "markdown",
      "metadata": {
        "id": "s2vvGrijATmh",
        "colab_type": "text"
      },
      "source": [
        "#**LabelEncoding and than OneHotEncoding**"
      ]
    },
    {
      "cell_type": "code",
      "metadata": {
        "id": "iI9F9n4Gdzx5",
        "colab_type": "code",
        "colab": {}
      },
      "source": [
        "labelEncoder_X= LabelEncoder()\n",
        "X[:,0]= labelEncoder_X.fit_transform(X[:,0])\n",
        "X[:,1]= labelEncoder_X.fit_transform(X[:,1])\n",
        "X[:,2]= labelEncoder_X.fit_transform(X[:,2])\n",
        "X[:,3]= labelEncoder_X.fit_transform(X[:,3])\n",
        "X[:,4]= labelEncoder_X.fit_transform(X[:,4])\n",
        "X[:,5]= labelEncoder_X.fit_transform(X[:,5])\n",
        "X[:,6]= labelEncoder_X.fit_transform(X[:,6])"
      ],
      "execution_count": 0,
      "outputs": []
    },
    {
      "cell_type": "markdown",
      "metadata": {
        "id": "5b6HPlQEVsY3",
        "colab_type": "text"
      },
      "source": [
        "#OneHotencoding.  Seperating each labeled categorie as a seperate new column for all the categorical data type column"
      ]
    },
    {
      "cell_type": "code",
      "metadata": {
        "id": "vE8Ayf516DWa",
        "colab_type": "code",
        "outputId": "ef4dde17-b0c9-41a1-9787-cb511cca703d",
        "colab": {
          "base_uri": "https://localhost:8080/",
          "height": 139
        }
      },
      "source": [
        "onehotencoder= OneHotEncoder(categorical_features=[0,1,2,3,4,5,6]) \n",
        "X= onehotencoder.fit_transform(X).toarray()"
      ],
      "execution_count": 111,
      "outputs": [
        {
          "output_type": "stream",
          "text": [
            "/usr/local/lib/python3.6/dist-packages/sklearn/preprocessing/_encoders.py:415: FutureWarning: The handling of integer data will change in version 0.22. Currently, the categories are determined based on the range [0, max(values)], while in the future they will be determined based on the unique values.\n",
            "If you want the future behaviour and silence this warning, you can specify \"categories='auto'\".\n",
            "In case you used a LabelEncoder before this OneHotEncoder to convert the categories to integers, then you can now use the OneHotEncoder directly.\n",
            "  warnings.warn(msg, FutureWarning)\n",
            "/usr/local/lib/python3.6/dist-packages/sklearn/preprocessing/_encoders.py:451: DeprecationWarning: The 'categorical_features' keyword is deprecated in version 0.20 and will be removed in 0.22. You can use the ColumnTransformer instead.\n",
            "  \"use the ColumnTransformer instead.\", DeprecationWarning)\n"
          ],
          "name": "stderr"
        }
      ]
    },
    {
      "cell_type": "markdown",
      "metadata": {
        "id": "dvtsqdSo4x6U",
        "colab_type": "text"
      },
      "source": [
        "#**Train Test Split**\n",
        "To avoid over-fitting, we will divide our dataset into training and test splits, which gives us a better idea as to how our algorithm performed during the testing phase. This way our algorithm is tested on un-seen data, as it would be in a production application."
      ]
    },
    {
      "cell_type": "code",
      "metadata": {
        "id": "qePM4FrU4x6V",
        "colab_type": "code",
        "outputId": "d981a8a3-929b-4e89-d004-e23593d9246c",
        "colab": {
          "base_uri": "https://localhost:8080/",
          "height": 323
        }
      },
      "source": [
        "from sklearn.model_selection import train_test_split\n",
        "X_train, X_test, y_train, y_test = train_test_split(X, y, test_size=0.20)"
      ],
      "execution_count": 112,
      "outputs": [
        {
          "output_type": "error",
          "ename": "TypeError",
          "evalue": "ignored",
          "traceback": [
            "\u001b[0;31m---------------------------------------------------------------------------\u001b[0m",
            "\u001b[0;31mTypeError\u001b[0m                                 Traceback (most recent call last)",
            "\u001b[0;32m<ipython-input-112-30edc4e5581e>\u001b[0m in \u001b[0;36m<module>\u001b[0;34m()\u001b[0m\n\u001b[1;32m      1\u001b[0m \u001b[0;32mfrom\u001b[0m \u001b[0msklearn\u001b[0m\u001b[0;34m.\u001b[0m\u001b[0mmodel_selection\u001b[0m \u001b[0;32mimport\u001b[0m \u001b[0mtrain_test_split\u001b[0m\u001b[0;34m\u001b[0m\u001b[0;34m\u001b[0m\u001b[0m\n\u001b[0;32m----> 2\u001b[0;31m \u001b[0mX_train\u001b[0m\u001b[0;34m,\u001b[0m \u001b[0mX_test\u001b[0m\u001b[0;34m,\u001b[0m \u001b[0my_train\u001b[0m\u001b[0;34m,\u001b[0m \u001b[0my_test\u001b[0m \u001b[0;34m=\u001b[0m \u001b[0mtrain_test_split\u001b[0m\u001b[0;34m(\u001b[0m\u001b[0mX\u001b[0m\u001b[0;34m,\u001b[0m \u001b[0my\u001b[0m\u001b[0;34m,\u001b[0m \u001b[0mtest_size\u001b[0m\u001b[0;34m=\u001b[0m\u001b[0;36m0.20\u001b[0m\u001b[0;34m)\u001b[0m\u001b[0;34m\u001b[0m\u001b[0;34m\u001b[0m\u001b[0m\n\u001b[0m",
            "\u001b[0;32m/usr/local/lib/python3.6/dist-packages/sklearn/model_selection/_split.py\u001b[0m in \u001b[0;36mtrain_test_split\u001b[0;34m(*arrays, **options)\u001b[0m\n\u001b[1;32m   2094\u001b[0m         \u001b[0;32mraise\u001b[0m \u001b[0mTypeError\u001b[0m\u001b[0;34m(\u001b[0m\u001b[0;34m\"Invalid parameters passed: %s\"\u001b[0m \u001b[0;34m%\u001b[0m \u001b[0mstr\u001b[0m\u001b[0;34m(\u001b[0m\u001b[0moptions\u001b[0m\u001b[0;34m)\u001b[0m\u001b[0;34m)\u001b[0m\u001b[0;34m\u001b[0m\u001b[0;34m\u001b[0m\u001b[0m\n\u001b[1;32m   2095\u001b[0m \u001b[0;34m\u001b[0m\u001b[0m\n\u001b[0;32m-> 2096\u001b[0;31m     \u001b[0marrays\u001b[0m \u001b[0;34m=\u001b[0m \u001b[0mindexable\u001b[0m\u001b[0;34m(\u001b[0m\u001b[0;34m*\u001b[0m\u001b[0marrays\u001b[0m\u001b[0;34m)\u001b[0m\u001b[0;34m\u001b[0m\u001b[0;34m\u001b[0m\u001b[0m\n\u001b[0m\u001b[1;32m   2097\u001b[0m \u001b[0;34m\u001b[0m\u001b[0m\n\u001b[1;32m   2098\u001b[0m     \u001b[0mn_samples\u001b[0m \u001b[0;34m=\u001b[0m \u001b[0m_num_samples\u001b[0m\u001b[0;34m(\u001b[0m\u001b[0marrays\u001b[0m\u001b[0;34m[\u001b[0m\u001b[0;36m0\u001b[0m\u001b[0;34m]\u001b[0m\u001b[0;34m)\u001b[0m\u001b[0;34m\u001b[0m\u001b[0;34m\u001b[0m\u001b[0m\n",
            "\u001b[0;32m/usr/local/lib/python3.6/dist-packages/sklearn/utils/validation.py\u001b[0m in \u001b[0;36mindexable\u001b[0;34m(*iterables)\u001b[0m\n\u001b[1;32m    228\u001b[0m         \u001b[0;32melse\u001b[0m\u001b[0;34m:\u001b[0m\u001b[0;34m\u001b[0m\u001b[0;34m\u001b[0m\u001b[0m\n\u001b[1;32m    229\u001b[0m             \u001b[0mresult\u001b[0m\u001b[0;34m.\u001b[0m\u001b[0mappend\u001b[0m\u001b[0;34m(\u001b[0m\u001b[0mnp\u001b[0m\u001b[0;34m.\u001b[0m\u001b[0marray\u001b[0m\u001b[0;34m(\u001b[0m\u001b[0mX\u001b[0m\u001b[0;34m)\u001b[0m\u001b[0;34m)\u001b[0m\u001b[0;34m\u001b[0m\u001b[0;34m\u001b[0m\u001b[0m\n\u001b[0;32m--> 230\u001b[0;31m     \u001b[0mcheck_consistent_length\u001b[0m\u001b[0;34m(\u001b[0m\u001b[0;34m*\u001b[0m\u001b[0mresult\u001b[0m\u001b[0;34m)\u001b[0m\u001b[0;34m\u001b[0m\u001b[0;34m\u001b[0m\u001b[0m\n\u001b[0m\u001b[1;32m    231\u001b[0m     \u001b[0;32mreturn\u001b[0m \u001b[0mresult\u001b[0m\u001b[0;34m\u001b[0m\u001b[0;34m\u001b[0m\u001b[0m\n\u001b[1;32m    232\u001b[0m \u001b[0;34m\u001b[0m\u001b[0m\n",
            "\u001b[0;32m/usr/local/lib/python3.6/dist-packages/sklearn/utils/validation.py\u001b[0m in \u001b[0;36mcheck_consistent_length\u001b[0;34m(*arrays)\u001b[0m\n\u001b[1;32m    199\u001b[0m     \"\"\"\n\u001b[1;32m    200\u001b[0m \u001b[0;34m\u001b[0m\u001b[0m\n\u001b[0;32m--> 201\u001b[0;31m     \u001b[0mlengths\u001b[0m \u001b[0;34m=\u001b[0m \u001b[0;34m[\u001b[0m\u001b[0m_num_samples\u001b[0m\u001b[0;34m(\u001b[0m\u001b[0mX\u001b[0m\u001b[0;34m)\u001b[0m \u001b[0;32mfor\u001b[0m \u001b[0mX\u001b[0m \u001b[0;32min\u001b[0m \u001b[0marrays\u001b[0m \u001b[0;32mif\u001b[0m \u001b[0mX\u001b[0m \u001b[0;32mis\u001b[0m \u001b[0;32mnot\u001b[0m \u001b[0;32mNone\u001b[0m\u001b[0;34m]\u001b[0m\u001b[0;34m\u001b[0m\u001b[0;34m\u001b[0m\u001b[0m\n\u001b[0m\u001b[1;32m    202\u001b[0m     \u001b[0muniques\u001b[0m \u001b[0;34m=\u001b[0m \u001b[0mnp\u001b[0m\u001b[0;34m.\u001b[0m\u001b[0munique\u001b[0m\u001b[0;34m(\u001b[0m\u001b[0mlengths\u001b[0m\u001b[0;34m)\u001b[0m\u001b[0;34m\u001b[0m\u001b[0;34m\u001b[0m\u001b[0m\n\u001b[1;32m    203\u001b[0m     \u001b[0;32mif\u001b[0m \u001b[0mlen\u001b[0m\u001b[0;34m(\u001b[0m\u001b[0muniques\u001b[0m\u001b[0;34m)\u001b[0m \u001b[0;34m>\u001b[0m \u001b[0;36m1\u001b[0m\u001b[0;34m:\u001b[0m\u001b[0;34m\u001b[0m\u001b[0;34m\u001b[0m\u001b[0m\n",
            "\u001b[0;32m/usr/local/lib/python3.6/dist-packages/sklearn/utils/validation.py\u001b[0m in \u001b[0;36m<listcomp>\u001b[0;34m(.0)\u001b[0m\n\u001b[1;32m    199\u001b[0m     \"\"\"\n\u001b[1;32m    200\u001b[0m \u001b[0;34m\u001b[0m\u001b[0m\n\u001b[0;32m--> 201\u001b[0;31m     \u001b[0mlengths\u001b[0m \u001b[0;34m=\u001b[0m \u001b[0;34m[\u001b[0m\u001b[0m_num_samples\u001b[0m\u001b[0;34m(\u001b[0m\u001b[0mX\u001b[0m\u001b[0;34m)\u001b[0m \u001b[0;32mfor\u001b[0m \u001b[0mX\u001b[0m \u001b[0;32min\u001b[0m \u001b[0marrays\u001b[0m \u001b[0;32mif\u001b[0m \u001b[0mX\u001b[0m \u001b[0;32mis\u001b[0m \u001b[0;32mnot\u001b[0m \u001b[0;32mNone\u001b[0m\u001b[0;34m]\u001b[0m\u001b[0;34m\u001b[0m\u001b[0;34m\u001b[0m\u001b[0m\n\u001b[0m\u001b[1;32m    202\u001b[0m     \u001b[0muniques\u001b[0m \u001b[0;34m=\u001b[0m \u001b[0mnp\u001b[0m\u001b[0;34m.\u001b[0m\u001b[0munique\u001b[0m\u001b[0;34m(\u001b[0m\u001b[0mlengths\u001b[0m\u001b[0;34m)\u001b[0m\u001b[0;34m\u001b[0m\u001b[0;34m\u001b[0m\u001b[0m\n\u001b[1;32m    203\u001b[0m     \u001b[0;32mif\u001b[0m \u001b[0mlen\u001b[0m\u001b[0;34m(\u001b[0m\u001b[0muniques\u001b[0m\u001b[0;34m)\u001b[0m \u001b[0;34m>\u001b[0m \u001b[0;36m1\u001b[0m\u001b[0;34m:\u001b[0m\u001b[0;34m\u001b[0m\u001b[0;34m\u001b[0m\u001b[0m\n",
            "\u001b[0;32m/usr/local/lib/python3.6/dist-packages/sklearn/utils/validation.py\u001b[0m in \u001b[0;36m_num_samples\u001b[0;34m(x)\u001b[0m\n\u001b[1;32m    144\u001b[0m         \u001b[0;32mif\u001b[0m \u001b[0mlen\u001b[0m\u001b[0;34m(\u001b[0m\u001b[0mx\u001b[0m\u001b[0;34m.\u001b[0m\u001b[0mshape\u001b[0m\u001b[0;34m)\u001b[0m \u001b[0;34m==\u001b[0m \u001b[0;36m0\u001b[0m\u001b[0;34m:\u001b[0m\u001b[0;34m\u001b[0m\u001b[0;34m\u001b[0m\u001b[0m\n\u001b[1;32m    145\u001b[0m             raise TypeError(\"Singleton array %r cannot be considered\"\n\u001b[0;32m--> 146\u001b[0;31m                             \" a valid collection.\" % x)\n\u001b[0m\u001b[1;32m    147\u001b[0m         \u001b[0;31m# Check that shape is returning an integer or default to len\u001b[0m\u001b[0;34m\u001b[0m\u001b[0;34m\u001b[0m\u001b[0;34m\u001b[0m\u001b[0m\n\u001b[1;32m    148\u001b[0m         \u001b[0;31m# Dask dataframes may not return numeric shape[0] value\u001b[0m\u001b[0;34m\u001b[0m\u001b[0;34m\u001b[0m\u001b[0;34m\u001b[0m\u001b[0m\n",
            "\u001b[0;31mTypeError\u001b[0m: Singleton array array(2) cannot be considered a valid collection."
          ]
        }
      ]
    },
    {
      "cell_type": "markdown",
      "metadata": {
        "id": "_embihAD4x6Y",
        "colab_type": "text"
      },
      "source": [
        "#**Feature Scaling**\n",
        "Before making any actual predictions, it is always a good practice to scale the features so that all of them can be uniformly evaluated."
      ]
    },
    {
      "cell_type": "code",
      "metadata": {
        "id": "BVUxaMkj4x6Z",
        "colab_type": "code",
        "colab": {}
      },
      "source": [
        "from sklearn.preprocessing import StandardScaler\n",
        "scaler = StandardScaler()\n",
        "scaler.fit(X_train)\n",
        "\n",
        "X_train = scaler.transform(X_train)\n",
        "X_test = scaler.transform(X_test)"
      ],
      "execution_count": 0,
      "outputs": []
    },
    {
      "cell_type": "markdown",
      "metadata": {
        "id": "0SAc8fgH4x6d",
        "colab_type": "text"
      },
      "source": [
        "#**Training and Predictions**\n",
        "It is extremely straight forward to train the KNN algorithm and make predictions with it, especially when using Scikit-Learn."
      ]
    },
    {
      "cell_type": "code",
      "metadata": {
        "id": "NZNja1_n4x6e",
        "colab_type": "code",
        "colab": {}
      },
      "source": [
        "from sklearn.neighbors import KNeighborsClassifier\n",
        "classifier = KNeighborsClassifier(n_neighbors=5)\n",
        "classifier.fit(X_train, y_train)"
      ],
      "execution_count": 0,
      "outputs": []
    },
    {
      "cell_type": "markdown",
      "metadata": {
        "id": "IuQ18WtE4x6h",
        "colab_type": "text"
      },
      "source": [
        "The first step is to import the KNeighborsClassifier class from the sklearn.neighbors library. In the second line, this class is initialized with one parameter, i.e. n_neigbours. This is basically the value for the K. There is no ideal value for K and it is selected after testing and evaluation, however to start out, 5 seems to be the most commonly used value for KNN algorithm."
      ]
    },
    {
      "cell_type": "code",
      "metadata": {
        "id": "EFPxlQBs4x6i",
        "colab_type": "code",
        "colab": {}
      },
      "source": [
        "y_pred = classifier.predict(X_test)"
      ],
      "execution_count": 0,
      "outputs": []
    },
    {
      "cell_type": "markdown",
      "metadata": {
        "id": "FqmoAAKY4x6m",
        "colab_type": "text"
      },
      "source": [
        "#**Evaluating the Algorithm**\n",
        "For evaluating an algorithm, confusion matrix, precision, recall and f1 score are the most commonly used metrics. The confusion_matrix and classification_report methods of the sklearn.metrics can be used to calculate these metrics. "
      ]
    },
    {
      "cell_type": "code",
      "metadata": {
        "id": "P7betaj04x6n",
        "colab_type": "code",
        "colab": {}
      },
      "source": [
        "from sklearn.metrics import classification_report, confusion_matrix\n",
        "print(confusion_matrix(y_test, y_pred))\n",
        "print(classification_report(y_test, y_pred))"
      ],
      "execution_count": 0,
      "outputs": []
    },
    {
      "cell_type": "markdown",
      "metadata": {
        "id": "l_cxrCTF4x6q",
        "colab_type": "text"
      },
      "source": [
        "#**Comparing Error Rate with the K Value**\n",
        "In the training and prediction section we said that there is no way to know beforehand which value of K that yields the best results in the first go. We randomly chose 5 as the K value and it just happen to result in 100% accuracy.\n",
        "\n",
        "One way to help you find the best value of K is to plot the graph of K value and the corresponding error rate for the dataset.\n",
        "\n",
        "In this section, we will plot the mean error for the predicted values of test set for all the K values between 1 and 40.\n",
        "\n",
        "To do so, let's first calculate the mean of error for all the predicted values where K ranges from 1 and 40."
      ]
    },
    {
      "cell_type": "code",
      "metadata": {
        "id": "lDlUa-SH4x6r",
        "colab_type": "code",
        "colab": {}
      },
      "source": [
        "error = []\n",
        "\n",
        "# Calculating error for K values between 1 and 40\n",
        "for i in range(1, 40):\n",
        "    knn = KNeighborsClassifier(n_neighbors=i)\n",
        "    knn.fit(X_train, y_train)\n",
        "    pred_i = knn.predict(X_test)\n",
        "    error.append(np.mean(pred_i != y_test))"
      ],
      "execution_count": 0,
      "outputs": []
    },
    {
      "cell_type": "code",
      "metadata": {
        "id": "R4Bz96344x6v",
        "colab_type": "code",
        "colab": {}
      },
      "source": [
        "plt.figure(figsize=(12, 6))\n",
        "plt.plot(range(1, 40), error, color='red', linestyle='dashed', marker='o',\n",
        "         markerfacecolor='blue', markersize=10)\n",
        "plt.title('Error Rate K Value')\n",
        "plt.xlabel('K Value')\n",
        "plt.ylabel('Mean Error')"
      ],
      "execution_count": 0,
      "outputs": []
    },
    {
      "cell_type": "markdown",
      "metadata": {
        "id": "YsKGUc-T4x6z",
        "colab_type": "text"
      },
      "source": [
        "#**Conclusion**\n",
        "KNN is a simple yet powerful classification algorithm. It requires no training for making predictions, which is typically one of the most difficult parts of a machine learning algorithm. The KNN algorithm have been widely used to find document similarity and pattern recognition. It has also been employed for developing recommender systems and for dimensionality reduction and pre-processing steps for computer vision, particularly face recognition tasks.\n",
        "\n",
        "From here, I would advise you to implement the KNN algorithm for a different classification dataset. Vary the test and training size along with the K value to see how your results differ and how can you improve the accuracy of your algorithm. A good collection of classification datasets is available here for you to play with."
      ]
    }
  ]
}