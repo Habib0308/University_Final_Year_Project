{
  "nbformat": 4,
  "nbformat_minor": 0,
  "metadata": {
    "colab": {
      "name": "ExploratoryAnalysis.ipynb",
      "provenance": [],
      "collapsed_sections": [],
      "include_colab_link": true
    },
    "kernelspec": {
      "name": "python3",
      "display_name": "Python 3"
    },
    "accelerator": "GPU"
  },
  "cells": [
    {
      "cell_type": "markdown",
      "metadata": {
        "id": "view-in-github",
        "colab_type": "text"
      },
      "source": [
        "<a href=\"https://colab.research.google.com/github/Habib0308/University_Final_Year_Project/blob/master/Project%20Codes/ExploratoryAnalysis.ipynb\" target=\"_parent\"><img src=\"https://colab.research.google.com/assets/colab-badge.svg\" alt=\"Open In Colab\"/></a>"
      ]
    },
    {
      "cell_type": "code",
      "metadata": {
        "id": "-wHws-qipk46",
        "colab_type": "code",
        "colab": {}
      },
      "source": [
        "import pandas as pd\n",
        "url=\"https://data.cityofchicago.org/api/views/x2n5-8w5q/rows.csv?accessType=DOWNLOAD\"\n",
        "df= pd.read_csv(url, encoding = \"utf-8\")"
      ],
      "execution_count": 0,
      "outputs": []
    },
    {
      "cell_type": "code",
      "metadata": {
        "id": "dUaATxwAZ9oT",
        "colab_type": "code",
        "colab": {}
      },
      "source": [
        "df.columns"
      ],
      "execution_count": 0,
      "outputs": []
    },
    {
      "cell_type": "code",
      "metadata": {
        "id": "p7_Te_LRumy0",
        "colab_type": "code",
        "colab": {}
      },
      "source": [
        "df[\"DATE  OF OCCURRENCE\"] = pd.to_datetime(df[\"DATE  OF OCCURRENCE\"], format=\"%m/%d/%Y %I:%M:%S %p\")\n",
        "#https://pandas.pydata.org/pandas-docs/stable/reference/api/pandas.to_datetime.html\n",
        "#https://docs.python.org/3/library/datetime.html#strftime-and-strptime-behavior"
      ],
      "execution_count": 0,
      "outputs": []
    },
    {
      "cell_type": "code",
      "metadata": {
        "id": "XTn1S8bYtvtt",
        "colab_type": "code",
        "colab": {}
      },
      "source": [
        "df.head(3)"
      ],
      "execution_count": 0,
      "outputs": []
    },
    {
      "cell_type": "code",
      "metadata": {
        "id": "VCCCKg_7pz2X",
        "colab_type": "code",
        "colab": {}
      },
      "source": [
        "#https://pandas.pydata.org/pandas-docs/version/0.23.4/generated/pandas.DatetimeIndex.html\n",
        "df['year'] = pd.DatetimeIndex(df[\"DATE  OF OCCURRENCE\"]).year\n",
        "df['month'] = pd.DatetimeIndex(df[\"DATE  OF OCCURRENCE\"]).month\n",
        "df['hour'] = pd.DatetimeIndex(df[\"DATE  OF OCCURRENCE\"]).hour\n",
        "df['Weekday']=pd.DatetimeIndex(df[\"DATE  OF OCCURRENCE\"]).dayofweek\n",
        "#df['day_of_week'] = df['Order Date'].dt.weekday_name\n",
        "#https://stackoverflow.com/questions/30222533/create-a-day-of-week-column-in-a-pandas-dataframe-using-python"
      ],
      "execution_count": 0,
      "outputs": []
    },
    {
      "cell_type": "code",
      "metadata": {
        "id": "J1No1XxXB-4M",
        "colab_type": "code",
        "colab": {}
      },
      "source": [
        "df.set_index(\"DATE  OF OCCURRENCE\", inplace=True)\n",
        "df.sort_index(inplace=True)"
      ],
      "execution_count": 0,
      "outputs": []
    },
    {
      "cell_type": "code",
      "metadata": {
        "id": "LPSH4mv0yOcy",
        "colab_type": "code",
        "colab": {}
      },
      "source": [
        "#df.sort_index(inplace=True)"
      ],
      "execution_count": 0,
      "outputs": []
    },
    {
      "cell_type": "code",
      "metadata": {
        "id": "hmqxOm1i0Sj6",
        "colab_type": "code",
        "colab": {}
      },
      "source": [
        "df[\"ARREST\"].count"
      ],
      "execution_count": 0,
      "outputs": []
    },
    {
      "cell_type": "code",
      "metadata": {
        "colab_type": "code",
        "id": "QpzfxreJ8fpR",
        "colab": {}
      },
      "source": [
        "df = df.dropna()"
      ],
      "execution_count": 0,
      "outputs": []
    },
    {
      "cell_type": "code",
      "metadata": {
        "id": "uxQhYrOZ4mpn",
        "colab_type": "code",
        "colab": {}
      },
      "source": [
        "df[\"ARREST\"].count"
      ],
      "execution_count": 0,
      "outputs": []
    },
    {
      "cell_type": "code",
      "metadata": {
        "id": "f6sEXZy480Iv",
        "colab_type": "code",
        "outputId": "6675d6da-9d7c-44ff-ae0f-86a361557109",
        "colab": {
          "base_uri": "https://localhost:8080/",
          "height": 321
        }
      },
      "source": [
        "df.head(3)"
      ],
      "execution_count": 8,
      "outputs": [
        {
          "output_type": "execute_result",
          "data": {
            "text/html": [
              "<div>\n",
              "<style scoped>\n",
              "    .dataframe tbody tr th:only-of-type {\n",
              "        vertical-align: middle;\n",
              "    }\n",
              "\n",
              "    .dataframe tbody tr th {\n",
              "        vertical-align: top;\n",
              "    }\n",
              "\n",
              "    .dataframe thead th {\n",
              "        text-align: right;\n",
              "    }\n",
              "</style>\n",
              "<table border=\"1\" class=\"dataframe\">\n",
              "  <thead>\n",
              "    <tr style=\"text-align: right;\">\n",
              "      <th></th>\n",
              "      <th>CASE#</th>\n",
              "      <th>BLOCK</th>\n",
              "      <th>IUCR</th>\n",
              "      <th>PRIMARY DESCRIPTION</th>\n",
              "      <th>SECONDARY DESCRIPTION</th>\n",
              "      <th>LOCATION DESCRIPTION</th>\n",
              "      <th>ARREST</th>\n",
              "      <th>DOMESTIC</th>\n",
              "      <th>BEAT</th>\n",
              "      <th>WARD</th>\n",
              "      <th>FBI CD</th>\n",
              "      <th>X COORDINATE</th>\n",
              "      <th>Y COORDINATE</th>\n",
              "      <th>LATITUDE</th>\n",
              "      <th>LONGITUDE</th>\n",
              "      <th>LOCATION</th>\n",
              "      <th>year</th>\n",
              "      <th>month</th>\n",
              "      <th>hour</th>\n",
              "      <th>Weekday</th>\n",
              "    </tr>\n",
              "    <tr>\n",
              "      <th>DATE  OF OCCURRENCE</th>\n",
              "      <th></th>\n",
              "      <th></th>\n",
              "      <th></th>\n",
              "      <th></th>\n",
              "      <th></th>\n",
              "      <th></th>\n",
              "      <th></th>\n",
              "      <th></th>\n",
              "      <th></th>\n",
              "      <th></th>\n",
              "      <th></th>\n",
              "      <th></th>\n",
              "      <th></th>\n",
              "      <th></th>\n",
              "      <th></th>\n",
              "      <th></th>\n",
              "      <th></th>\n",
              "      <th></th>\n",
              "      <th></th>\n",
              "      <th></th>\n",
              "    </tr>\n",
              "  </thead>\n",
              "  <tbody>\n",
              "    <tr>\n",
              "      <th>2018-11-23 05:10:00</th>\n",
              "      <td>JB525840</td>\n",
              "      <td>020XX N HALSTED ST</td>\n",
              "      <td>1310</td>\n",
              "      <td>CRIMINAL DAMAGE</td>\n",
              "      <td>TO PROPERTY</td>\n",
              "      <td>APARTMENT</td>\n",
              "      <td>N</td>\n",
              "      <td>N</td>\n",
              "      <td>1812</td>\n",
              "      <td>43.0</td>\n",
              "      <td>14</td>\n",
              "      <td>1170621.0</td>\n",
              "      <td>1913859.0</td>\n",
              "      <td>41.919114</td>\n",
              "      <td>-87.648542</td>\n",
              "      <td>(41.919113711, -87.648542129)</td>\n",
              "      <td>2018</td>\n",
              "      <td>11</td>\n",
              "      <td>5</td>\n",
              "      <td>4</td>\n",
              "    </tr>\n",
              "    <tr>\n",
              "      <th>2018-11-23 05:15:00</th>\n",
              "      <td>JB525845</td>\n",
              "      <td>003XX E 63RD ST</td>\n",
              "      <td>1310</td>\n",
              "      <td>CRIMINAL DAMAGE</td>\n",
              "      <td>TO PROPERTY</td>\n",
              "      <td>SMALL RETAIL STORE</td>\n",
              "      <td>N</td>\n",
              "      <td>N</td>\n",
              "      <td>311</td>\n",
              "      <td>20.0</td>\n",
              "      <td>14</td>\n",
              "      <td>1179662.0</td>\n",
              "      <td>1863316.0</td>\n",
              "      <td>41.780218</td>\n",
              "      <td>-87.616874</td>\n",
              "      <td>(41.780217525, -87.616874156)</td>\n",
              "      <td>2018</td>\n",
              "      <td>11</td>\n",
              "      <td>5</td>\n",
              "      <td>4</td>\n",
              "    </tr>\n",
              "    <tr>\n",
              "      <th>2018-11-23 05:15:00</th>\n",
              "      <td>JB526104</td>\n",
              "      <td>035XX W BELDEN AVE</td>\n",
              "      <td>0610</td>\n",
              "      <td>BURGLARY</td>\n",
              "      <td>FORCIBLE ENTRY</td>\n",
              "      <td>RESIDENCE</td>\n",
              "      <td>N</td>\n",
              "      <td>N</td>\n",
              "      <td>1413</td>\n",
              "      <td>35.0</td>\n",
              "      <td>05</td>\n",
              "      <td>1152172.0</td>\n",
              "      <td>1915056.0</td>\n",
              "      <td>41.922783</td>\n",
              "      <td>-87.716294</td>\n",
              "      <td>(41.922782629, -87.716294456)</td>\n",
              "      <td>2018</td>\n",
              "      <td>11</td>\n",
              "      <td>5</td>\n",
              "      <td>4</td>\n",
              "    </tr>\n",
              "  </tbody>\n",
              "</table>\n",
              "</div>"
            ],
            "text/plain": [
              "                        CASE#               BLOCK  IUCR  ... month hour Weekday\n",
              "DATE  OF OCCURRENCE                                      ...                   \n",
              "2018-11-23 05:10:00  JB525840  020XX N HALSTED ST  1310  ...    11    5       4\n",
              "2018-11-23 05:15:00  JB525845     003XX E 63RD ST  1310  ...    11    5       4\n",
              "2018-11-23 05:15:00  JB526104  035XX W BELDEN AVE  0610  ...    11    5       4\n",
              "\n",
              "[3 rows x 20 columns]"
            ]
          },
          "metadata": {
            "tags": []
          },
          "execution_count": 8
        }
      ]
    },
    {
      "cell_type": "code",
      "metadata": {
        "id": "75450tqT8J55",
        "colab_type": "code",
        "colab": {}
      },
      "source": [
        "a= [pd.value_counts(df[\" LOCATION DESCRIPTION\"])]\n",
        "a.sort()\n",
        "print(a)"
      ],
      "execution_count": 0,
      "outputs": []
    },
    {
      "cell_type": "code",
      "metadata": {
        "id": "4B2zSwNmtrgo",
        "colab_type": "code",
        "colab": {}
      },
      "source": [
        ""
      ],
      "execution_count": 0,
      "outputs": []
    }
  ]
}