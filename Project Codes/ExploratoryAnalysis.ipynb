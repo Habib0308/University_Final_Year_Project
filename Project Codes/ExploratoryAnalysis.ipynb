{
  "nbformat": 4,
  "nbformat_minor": 0,
  "metadata": {
    "colab": {
      "name": "ExploratoryAnalysis.ipynb",
      "provenance": [],
      "collapsed_sections": [],
      "include_colab_link": true
    },
    "kernelspec": {
      "name": "python3",
      "display_name": "Python 3"
    },
    "accelerator": "GPU"
  },
  "cells": [
    {
      "cell_type": "markdown",
      "metadata": {
        "id": "view-in-github",
        "colab_type": "text"
      },
      "source": [
        "<a href=\"https://colab.research.google.com/github/Habib0308/University_Final_Year_Project/blob/master/Project%20Codes/ExploratoryAnalysis.ipynb\" target=\"_parent\"><img src=\"https://colab.research.google.com/assets/colab-badge.svg\" alt=\"Open In Colab\"/></a>"
      ]
    },
    {
      "cell_type": "code",
      "metadata": {
        "id": "-wHws-qipk46",
        "colab_type": "code",
        "colab": {}
      },
      "source": [
        "import pandas as pd\n",
        "url=\"https://data.cityofchicago.org/api/views/x2n5-8w5q/rows.csv?accessType=DOWNLOAD\"\n",
        "df= pd.read_csv(url, encoding = \"utf-8\")"
      ],
      "execution_count": 0,
      "outputs": []
    },
    {
      "cell_type": "markdown",
      "metadata": {
        "id": "P2yvTFJH4lVy",
        "colab_type": "text"
      },
      "source": [
        "First i'll be **exploring the dataset using Pandas** to find some insights about the data\n",
        "First i have to set up index of data but the date column is not much of a use with the way data is stored in it."
      ]
    },
    {
      "cell_type": "code",
      "metadata": {
        "id": "mqEjnmHOthmq",
        "colab_type": "code",
        "colab": {}
      },
      "source": [
        "\"\"\"\n",
        "ds.rename(columns={'DATE OF OCCURRENCE':'Crime_Date','CASE#':'Case_No','PRIMARY DESCRIPTION':'Crime_Type','SECONDARY DESCRIPTION':'Crime_Description',\n",
        "                   'LOCATION DESCRIPTION':'Loc_Description','X COORDINATE':'X_Coordinate','Y COORDINATE':'Y_COORDINATE'}, inplace=True)\n",
        "#https://docs.python.org/3/library/datetime.html#strftime-and-strptime-behavior \n",
        "\"\"\""
      ],
      "execution_count": 0,
      "outputs": []
    },
    {
      "cell_type": "code",
      "metadata": {
        "id": "dUaATxwAZ9oT",
        "colab_type": "code",
        "colab": {
          "base_uri": "https://localhost:8080/",
          "height": 105
        },
        "outputId": "92efda62-b2b3-474f-d4ab-205a069cfb67"
      },
      "source": [
        "df.columns"
      ],
      "execution_count": 3,
      "outputs": [
        {
          "output_type": "execute_result",
          "data": {
            "text/plain": [
              "Index(['CASE#', 'DATE  OF OCCURRENCE', 'BLOCK', ' IUCR',\n",
              "       ' PRIMARY DESCRIPTION', ' SECONDARY DESCRIPTION',\n",
              "       ' LOCATION DESCRIPTION', 'ARREST', 'DOMESTIC', 'BEAT', 'WARD', 'FBI CD',\n",
              "       'X COORDINATE', 'Y COORDINATE', 'LATITUDE', 'LONGITUDE', 'LOCATION'],\n",
              "      dtype='object')"
            ]
          },
          "metadata": {
            "tags": []
          },
          "execution_count": 3
        }
      ]
    },
    {
      "cell_type": "code",
      "metadata": {
        "id": "p7_Te_LRumy0",
        "colab_type": "code",
        "colab": {}
      },
      "source": [
        "df[\"DATE  OF OCCURRENCE\"] = pd.to_datetime(df[\"DATE  OF OCCURRENCE\"], format=\"%m/%d/%Y %I:%M:%S %p\")"
      ],
      "execution_count": 0,
      "outputs": []
    },
    {
      "cell_type": "code",
      "metadata": {
        "id": "XTn1S8bYtvtt",
        "colab_type": "code",
        "colab": {}
      },
      "source": [
        "df.head(3)"
      ],
      "execution_count": 0,
      "outputs": []
    },
    {
      "cell_type": "code",
      "metadata": {
        "id": "VCCCKg_7pz2X",
        "colab_type": "code",
        "colab": {}
      },
      "source": [
        "#https://pandas.pydata.org/pandas-docs/version/0.23.4/generated/pandas.DatetimeIndex.html\n",
        "df['year'] = pd.DatetimeIndex(df[\"DATE  OF OCCURRENCE\"]).year\n",
        "df['month'] = pd.DatetimeIndex(df[\"DATE  OF OCCURRENCE\"]).month\n",
        "df['hour'] = pd.DatetimeIndex(df[\"DATE  OF OCCURRENCE\"]).hour"
      ],
      "execution_count": 0,
      "outputs": []
    },
    {
      "cell_type": "code",
      "metadata": {
        "id": "J1No1XxXB-4M",
        "colab_type": "code",
        "colab": {}
      },
      "source": [
        "df.set_index(\"DATE  OF OCCURRENCE\", inplace=True)"
      ],
      "execution_count": 0,
      "outputs": []
    },
    {
      "cell_type": "code",
      "metadata": {
        "id": "LPSH4mv0yOcy",
        "colab_type": "code",
        "colab": {}
      },
      "source": [
        "#df.sort_index(inplace=True)"
      ],
      "execution_count": 0,
      "outputs": []
    },
    {
      "cell_type": "code",
      "metadata": {
        "id": "hmqxOm1i0Sj6",
        "colab_type": "code",
        "outputId": "f92b66dd-cf9d-445b-fdd7-4d956a33c96d",
        "colab": {
          "base_uri": "https://localhost:8080/",
          "height": 247
        }
      },
      "source": [
        "df[\"ARREST\"].count"
      ],
      "execution_count": 6,
      "outputs": [
        {
          "output_type": "execute_result",
          "data": {
            "text/plain": [
              "<bound method Series.count of DATE  OF OCCURRENCE\n",
              "2019-06-24 18:20:00    N\n",
              "2019-11-03 11:40:00    N\n",
              "2019-05-19 11:00:00    N\n",
              "2019-10-04 06:10:00    N\n",
              "2019-05-20 15:00:00    N\n",
              "                      ..\n",
              "2019-07-19 21:00:00    N\n",
              "2019-06-23 16:40:00    N\n",
              "2019-08-23 23:00:00    N\n",
              "2019-08-05 12:30:00    N\n",
              "2019-06-18 16:00:00    N\n",
              "Name: ARREST, Length: 258177, dtype: object>"
            ]
          },
          "metadata": {
            "tags": []
          },
          "execution_count": 6
        }
      ]
    },
    {
      "cell_type": "code",
      "metadata": {
        "colab_type": "code",
        "id": "QpzfxreJ8fpR",
        "colab": {}
      },
      "source": [
        "df = df.dropna()"
      ],
      "execution_count": 0,
      "outputs": []
    },
    {
      "cell_type": "code",
      "metadata": {
        "id": "uxQhYrOZ4mpn",
        "colab_type": "code",
        "outputId": "e42111ea-e677-49d2-a319-5660b7fc9bbc",
        "colab": {
          "base_uri": "https://localhost:8080/",
          "height": 247
        }
      },
      "source": [
        "df[\"ARREST\"].count"
      ],
      "execution_count": 8,
      "outputs": [
        {
          "output_type": "execute_result",
          "data": {
            "text/plain": [
              "<bound method Series.count of DATE  OF OCCURRENCE\n",
              "2019-06-24 18:24:00    N\n",
              "2019-06-24 11:00:00    N\n",
              "2019-11-19 19:20:00    N\n",
              "2019-11-19 00:10:00    N\n",
              "2019-11-19 08:00:00    N\n",
              "                      ..\n",
              "2019-07-19 21:00:00    N\n",
              "2019-06-23 16:40:00    N\n",
              "2019-08-23 23:00:00    N\n",
              "2019-08-05 12:30:00    N\n",
              "2019-06-18 16:00:00    N\n",
              "Name: ARREST, Length: 255213, dtype: object>"
            ]
          },
          "metadata": {
            "tags": []
          },
          "execution_count": 8
        }
      ]
    },
    {
      "cell_type": "code",
      "metadata": {
        "id": "f6sEXZy480Iv",
        "colab_type": "code",
        "outputId": "16e57069-6871-4b76-a3cb-223749fc30d8",
        "colab": {
          "base_uri": "https://localhost:8080/",
          "height": 321
        }
      },
      "source": [
        "df.head(3)"
      ],
      "execution_count": 9,
      "outputs": [
        {
          "output_type": "execute_result",
          "data": {
            "text/html": [
              "<div>\n",
              "<style scoped>\n",
              "    .dataframe tbody tr th:only-of-type {\n",
              "        vertical-align: middle;\n",
              "    }\n",
              "\n",
              "    .dataframe tbody tr th {\n",
              "        vertical-align: top;\n",
              "    }\n",
              "\n",
              "    .dataframe thead th {\n",
              "        text-align: right;\n",
              "    }\n",
              "</style>\n",
              "<table border=\"1\" class=\"dataframe\">\n",
              "  <thead>\n",
              "    <tr style=\"text-align: right;\">\n",
              "      <th></th>\n",
              "      <th>CASE#</th>\n",
              "      <th>BLOCK</th>\n",
              "      <th>IUCR</th>\n",
              "      <th>PRIMARY DESCRIPTION</th>\n",
              "      <th>SECONDARY DESCRIPTION</th>\n",
              "      <th>LOCATION DESCRIPTION</th>\n",
              "      <th>ARREST</th>\n",
              "      <th>DOMESTIC</th>\n",
              "      <th>BEAT</th>\n",
              "      <th>WARD</th>\n",
              "      <th>FBI CD</th>\n",
              "      <th>X COORDINATE</th>\n",
              "      <th>Y COORDINATE</th>\n",
              "      <th>LATITUDE</th>\n",
              "      <th>LONGITUDE</th>\n",
              "      <th>LOCATION</th>\n",
              "      <th>year</th>\n",
              "      <th>month</th>\n",
              "      <th>hour</th>\n",
              "    </tr>\n",
              "    <tr>\n",
              "      <th>DATE  OF OCCURRENCE</th>\n",
              "      <th></th>\n",
              "      <th></th>\n",
              "      <th></th>\n",
              "      <th></th>\n",
              "      <th></th>\n",
              "      <th></th>\n",
              "      <th></th>\n",
              "      <th></th>\n",
              "      <th></th>\n",
              "      <th></th>\n",
              "      <th></th>\n",
              "      <th></th>\n",
              "      <th></th>\n",
              "      <th></th>\n",
              "      <th></th>\n",
              "      <th></th>\n",
              "      <th></th>\n",
              "      <th></th>\n",
              "      <th></th>\n",
              "    </tr>\n",
              "  </thead>\n",
              "  <tbody>\n",
              "    <tr>\n",
              "      <th>2019-06-24 18:24:00</th>\n",
              "      <td>JC320310</td>\n",
              "      <td>077XX S PAULINA ST</td>\n",
              "      <td>0460</td>\n",
              "      <td>BATTERY</td>\n",
              "      <td>SIMPLE</td>\n",
              "      <td>SIDEWALK</td>\n",
              "      <td>N</td>\n",
              "      <td>N</td>\n",
              "      <td>611</td>\n",
              "      <td>17.0</td>\n",
              "      <td>08B</td>\n",
              "      <td>1166353.0</td>\n",
              "      <td>1853475.0</td>\n",
              "      <td>41.753506</td>\n",
              "      <td>-87.665947</td>\n",
              "      <td>(41.75350644, -87.665946948)</td>\n",
              "      <td>2019</td>\n",
              "      <td>6</td>\n",
              "      <td>18</td>\n",
              "    </tr>\n",
              "    <tr>\n",
              "      <th>2019-06-24 11:00:00</th>\n",
              "      <td>JC319636</td>\n",
              "      <td>061XX N MOZART ST</td>\n",
              "      <td>0810</td>\n",
              "      <td>THEFT</td>\n",
              "      <td>OVER $500</td>\n",
              "      <td>STREET</td>\n",
              "      <td>N</td>\n",
              "      <td>N</td>\n",
              "      <td>2413</td>\n",
              "      <td>50.0</td>\n",
              "      <td>06</td>\n",
              "      <td>1156228.0</td>\n",
              "      <td>1940651.0</td>\n",
              "      <td>41.992936</td>\n",
              "      <td>-87.700697</td>\n",
              "      <td>(41.992935819, -87.700697034)</td>\n",
              "      <td>2019</td>\n",
              "      <td>6</td>\n",
              "      <td>11</td>\n",
              "    </tr>\n",
              "    <tr>\n",
              "      <th>2019-11-19 19:20:00</th>\n",
              "      <td>JC516886</td>\n",
              "      <td>063XX S WESTERN AVE</td>\n",
              "      <td>0810</td>\n",
              "      <td>THEFT</td>\n",
              "      <td>OVER $500</td>\n",
              "      <td>CTA BUS</td>\n",
              "      <td>N</td>\n",
              "      <td>N</td>\n",
              "      <td>825</td>\n",
              "      <td>16.0</td>\n",
              "      <td>06</td>\n",
              "      <td>1161459.0</td>\n",
              "      <td>1862643.0</td>\n",
              "      <td>41.778768</td>\n",
              "      <td>-87.683628</td>\n",
              "      <td>(41.778767526, -87.683627986)</td>\n",
              "      <td>2019</td>\n",
              "      <td>11</td>\n",
              "      <td>19</td>\n",
              "    </tr>\n",
              "  </tbody>\n",
              "</table>\n",
              "</div>"
            ],
            "text/plain": [
              "                        CASE#                BLOCK  IUCR  ...  year month hour\n",
              "DATE  OF OCCURRENCE                                       ...                 \n",
              "2019-06-24 18:24:00  JC320310   077XX S PAULINA ST  0460  ...  2019     6   18\n",
              "2019-06-24 11:00:00  JC319636    061XX N MOZART ST  0810  ...  2019     6   11\n",
              "2019-11-19 19:20:00  JC516886  063XX S WESTERN AVE  0810  ...  2019    11   19\n",
              "\n",
              "[3 rows x 19 columns]"
            ]
          },
          "metadata": {
            "tags": []
          },
          "execution_count": 9
        }
      ]
    },
    {
      "cell_type": "code",
      "metadata": {
        "id": "75450tqT8J55",
        "colab_type": "code",
        "outputId": "79349839-5ce4-40a7-ec19-3da53cd6f985",
        "colab": {
          "base_uri": "https://localhost:8080/",
          "height": 230
        }
      },
      "source": [
        "a= [pd.value_counts(df[\" LOCATION DESCRIPTION\"])]\n",
        "a.sort()\n",
        "print(a)"
      ],
      "execution_count": 24,
      "outputs": [
        {
          "output_type": "stream",
          "text": [
            "[STREET               56758\n",
            "RESIDENCE            41938\n",
            "APARTMENT            34120\n",
            "SIDEWALK             20146\n",
            "OTHER                10369\n",
            "                     ...  \n",
            "RAILROAD PROPERTY        1\n",
            "CHA GROUNDS              1\n",
            "HOTEL                    1\n",
            "TRAILER                  1\n",
            "CTA \"L\" PLATFORM         1\n",
            "Name:  LOCATION DESCRIPTION, Length: 124, dtype: int64]\n"
          ],
          "name": "stdout"
        }
      ]
    },
    {
      "cell_type": "code",
      "metadata": {
        "id": "4B2zSwNmtrgo",
        "colab_type": "code",
        "colab": {}
      },
      "source": [
        ""
      ],
      "execution_count": 0,
      "outputs": []
    }
  ]
}