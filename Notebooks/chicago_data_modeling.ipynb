{
  "nbformat": 4,
  "nbformat_minor": 0,
  "metadata": {
    "colab": {
      "name": "chicago_data_modeling.ipynb",
      "provenance": [],
      "collapsed_sections": [],
      "toc_visible": true,
      "mount_file_id": "1FvG_MRBza6mt41fISIYAREwSoAsVVye-",
      "authorship_tag": "ABX9TyOd+ilklXFQz6Mx2TYv63Th",
      "include_colab_link": true
    },
    "kernelspec": {
      "name": "python3",
      "display_name": "Python 3"
    }
  },
  "cells": [
    {
      "cell_type": "markdown",
      "metadata": {
        "id": "view-in-github",
        "colab_type": "text"
      },
      "source": [
        "<a href=\"https://colab.research.google.com/github/Habib0308/University_Final_Year_Project/blob/master/Notebooks/chicago_data_modeling.ipynb\" target=\"_parent\"><img src=\"https://colab.research.google.com/assets/colab-badge.svg\" alt=\"Open In Colab\"/></a>"
      ]
    },
    {
      "cell_type": "markdown",
      "metadata": {
        "id": "C40e3MaRG1iI",
        "colab_type": "text"
      },
      "source": [
        "\n",
        "#Avoid colab clossing\n",
        "\n",
        "```\n",
        "function ClickConnect(){\n",
        "    document.querySelector(\"colab-connect-button\").click()\n",
        "    console.log(\"Clicked on connect button\"); \n",
        "}\n",
        "setInterval(ClickConnect,60000)\n",
        "```"
      ]
    },
    {
      "cell_type": "markdown",
      "metadata": {
        "id": "B_BtlPAAHVph",
        "colab_type": "text"
      },
      "source": [
        "# Mounting google drive"
      ]
    },
    {
      "cell_type": "code",
      "metadata": {
        "id": "W-rzoDGFHOdq",
        "colab_type": "code",
        "colab": {
          "base_uri": "https://localhost:8080/",
          "height": 54
        },
        "outputId": "0e634ba8-10ef-4a6f-e3be-6d77ddd2c559"
      },
      "source": [
        "from google.colab import drive\n",
        "drive.mount('/content/gdrive')"
      ],
      "execution_count": 44,
      "outputs": [
        {
          "output_type": "stream",
          "text": [
            "Drive already mounted at /content/gdrive; to attempt to forcibly remount, call drive.mount(\"/content/gdrive\", force_remount=True).\n"
          ],
          "name": "stdout"
        }
      ]
    },
    {
      "cell_type": "markdown",
      "metadata": {
        "id": "Us1c-6XxHkFC",
        "colab_type": "text"
      },
      "source": [
        "# **Imports**"
      ]
    },
    {
      "cell_type": "code",
      "metadata": {
        "id": "PTrLUCbRHtLn",
        "colab_type": "code",
        "colab": {}
      },
      "source": [
        "import pandas as pd\n",
        "import numpy as np\n",
        "import pickle\n",
        "import torch\n",
        "import matplotlib.pyplot as plt\n",
        "from sklearn import preprocessing\n",
        "from sklearn.model_selection import train_test_split\n",
        "from sklearn.metrics import accuracy_score\n",
        "from sklearn import model_selection\n",
        "from sklearn.metrics import confusion_matrix\n",
        "from sklearn.tree import DecisionTreeClassifier"
      ],
      "execution_count": 45,
      "outputs": []
    },
    {
      "cell_type": "code",
      "metadata": {
        "id": "ZmYcU9HyHkOl",
        "colab_type": "code",
        "colab": {}
      },
      "source": [
        "url= \"/content/gdrive/My Drive/Final Year Project/Dataset/sec_des_data.csv\"\n",
        "df= pd.read_csv(url)\n",
        "del df[\"Unnamed: 0\"]"
      ],
      "execution_count": 46,
      "outputs": []
    },
    {
      "cell_type": "code",
      "metadata": {
        "id": "LTNBAsotgopa",
        "colab_type": "code",
        "colab": {
          "base_uri": "https://localhost:8080/",
          "height": 211
        },
        "outputId": "bc12102b-2c2f-402a-8333-95208e652628"
      },
      "source": [
        "df.head(2)"
      ],
      "execution_count": 47,
      "outputs": [
        {
          "output_type": "execute_result",
          "data": {
            "text/html": [
              "<div>\n",
              "<style scoped>\n",
              "    .dataframe tbody tr th:only-of-type {\n",
              "        vertical-align: middle;\n",
              "    }\n",
              "\n",
              "    .dataframe tbody tr th {\n",
              "        vertical-align: top;\n",
              "    }\n",
              "\n",
              "    .dataframe thead th {\n",
              "        text-align: right;\n",
              "    }\n",
              "</style>\n",
              "<table border=\"1\" class=\"dataframe\">\n",
              "  <thead>\n",
              "    <tr style=\"text-align: right;\">\n",
              "      <th></th>\n",
              "      <th>secondary_description</th>\n",
              "      <th>primary_description_THEFT</th>\n",
              "      <th>primary_description_BATTERY</th>\n",
              "      <th>primary_description_CRIMINAL DAMAGE</th>\n",
              "      <th>primary_description_ASSAULT</th>\n",
              "      <th>primary_description_DECEPTIVE PRACTICE</th>\n",
              "      <th>primary_description_OTHER OFFENSE</th>\n",
              "      <th>primary_description_NARCOTICS</th>\n",
              "      <th>primary_description_BURGLARY</th>\n",
              "      <th>primary_description_MOTOR VEHICLE THEFT</th>\n",
              "      <th>primary_description_ROBBERY</th>\n",
              "      <th>primary_description_WEAPONS VIOLATION</th>\n",
              "      <th>primary_description_CRIMINAL TRESPASS</th>\n",
              "      <th>ward_42.0</th>\n",
              "      <th>ward_28.0</th>\n",
              "      <th>ward_27.0</th>\n",
              "      <th>ward_24.0</th>\n",
              "      <th>ward_6.0</th>\n",
              "      <th>ward_17.0</th>\n",
              "      <th>ward_21.0</th>\n",
              "      <th>ward_8.0</th>\n",
              "      <th>ward_20.0</th>\n",
              "      <th>ward_16.0</th>\n",
              "      <th>ward_37.0</th>\n",
              "      <th>ward_9.0</th>\n",
              "      <th>ward_7.0</th>\n",
              "      <th>ward_3.0</th>\n",
              "      <th>ward_34.0</th>\n",
              "      <th>ward_4.0</th>\n",
              "      <th>ward_29.0</th>\n",
              "      <th>ward_5.0</th>\n",
              "      <th>ward_25.0</th>\n",
              "      <th>ward_1.0</th>\n",
              "      <th>block_067XX S EAST END AVE</th>\n",
              "      <th>block_050XX S MICHIGAN AVE</th>\n",
              "      <th>block_006XX W HARRISON ST</th>\n",
              "      <th>block_074XX S COLFAX AVE</th>\n",
              "      <th>block_079XX S DREXEL AVE</th>\n",
              "      <th>block_007XX E 79TH ST</th>\n",
              "      <th>block_002XX W 103RD ST</th>\n",
              "      <th>...</th>\n",
              "      <th>month_Sep</th>\n",
              "      <th>month_Oct</th>\n",
              "      <th>month_Nov</th>\n",
              "      <th>month_Dec</th>\n",
              "      <th>month_Jan</th>\n",
              "      <th>month_Feb</th>\n",
              "      <th>month_Mar</th>\n",
              "      <th>month_Apr</th>\n",
              "      <th>month_May</th>\n",
              "      <th>week_day_Thursday</th>\n",
              "      <th>week_day_Friday</th>\n",
              "      <th>week_day_Saturday</th>\n",
              "      <th>week_day_Sunday</th>\n",
              "      <th>week_day_Monday</th>\n",
              "      <th>week_day_Tuesday</th>\n",
              "      <th>week_day_Wednesday</th>\n",
              "      <th>hour_5</th>\n",
              "      <th>hour_6</th>\n",
              "      <th>hour_7</th>\n",
              "      <th>hour_8</th>\n",
              "      <th>hour_9</th>\n",
              "      <th>hour_10</th>\n",
              "      <th>hour_11</th>\n",
              "      <th>hour_12</th>\n",
              "      <th>hour_13</th>\n",
              "      <th>hour_14</th>\n",
              "      <th>hour_15</th>\n",
              "      <th>hour_16</th>\n",
              "      <th>hour_17</th>\n",
              "      <th>hour_18</th>\n",
              "      <th>hour_19</th>\n",
              "      <th>hour_20</th>\n",
              "      <th>hour_21</th>\n",
              "      <th>hour_22</th>\n",
              "      <th>hour_23</th>\n",
              "      <th>hour_0</th>\n",
              "      <th>hour_1</th>\n",
              "      <th>hour_2</th>\n",
              "      <th>hour_3</th>\n",
              "      <th>hour_4</th>\n",
              "    </tr>\n",
              "  </thead>\n",
              "  <tbody>\n",
              "    <tr>\n",
              "      <th>0</th>\n",
              "      <td>DOMESTIC BATTERY SIMPLE</td>\n",
              "      <td>0</td>\n",
              "      <td>1</td>\n",
              "      <td>0</td>\n",
              "      <td>0</td>\n",
              "      <td>0</td>\n",
              "      <td>0</td>\n",
              "      <td>0</td>\n",
              "      <td>0</td>\n",
              "      <td>0</td>\n",
              "      <td>0</td>\n",
              "      <td>0</td>\n",
              "      <td>0</td>\n",
              "      <td>0</td>\n",
              "      <td>0</td>\n",
              "      <td>0</td>\n",
              "      <td>0</td>\n",
              "      <td>0</td>\n",
              "      <td>0</td>\n",
              "      <td>0</td>\n",
              "      <td>0</td>\n",
              "      <td>0</td>\n",
              "      <td>0</td>\n",
              "      <td>0</td>\n",
              "      <td>0</td>\n",
              "      <td>0</td>\n",
              "      <td>0</td>\n",
              "      <td>0</td>\n",
              "      <td>0</td>\n",
              "      <td>0</td>\n",
              "      <td>0</td>\n",
              "      <td>0</td>\n",
              "      <td>0</td>\n",
              "      <td>0</td>\n",
              "      <td>0</td>\n",
              "      <td>0</td>\n",
              "      <td>0</td>\n",
              "      <td>0</td>\n",
              "      <td>0</td>\n",
              "      <td>0</td>\n",
              "      <td>...</td>\n",
              "      <td>0</td>\n",
              "      <td>0</td>\n",
              "      <td>0</td>\n",
              "      <td>0</td>\n",
              "      <td>0</td>\n",
              "      <td>0</td>\n",
              "      <td>0</td>\n",
              "      <td>0</td>\n",
              "      <td>0</td>\n",
              "      <td>1</td>\n",
              "      <td>0</td>\n",
              "      <td>0</td>\n",
              "      <td>0</td>\n",
              "      <td>0</td>\n",
              "      <td>0</td>\n",
              "      <td>0</td>\n",
              "      <td>0</td>\n",
              "      <td>0</td>\n",
              "      <td>0</td>\n",
              "      <td>0</td>\n",
              "      <td>0</td>\n",
              "      <td>0</td>\n",
              "      <td>0</td>\n",
              "      <td>0</td>\n",
              "      <td>0</td>\n",
              "      <td>0</td>\n",
              "      <td>0</td>\n",
              "      <td>0</td>\n",
              "      <td>0</td>\n",
              "      <td>0</td>\n",
              "      <td>0</td>\n",
              "      <td>0</td>\n",
              "      <td>0</td>\n",
              "      <td>0</td>\n",
              "      <td>0</td>\n",
              "      <td>0</td>\n",
              "      <td>0</td>\n",
              "      <td>0</td>\n",
              "      <td>0</td>\n",
              "      <td>0</td>\n",
              "    </tr>\n",
              "    <tr>\n",
              "      <th>1</th>\n",
              "      <td>SIMPLE</td>\n",
              "      <td>0</td>\n",
              "      <td>0</td>\n",
              "      <td>0</td>\n",
              "      <td>1</td>\n",
              "      <td>0</td>\n",
              "      <td>0</td>\n",
              "      <td>0</td>\n",
              "      <td>0</td>\n",
              "      <td>0</td>\n",
              "      <td>0</td>\n",
              "      <td>0</td>\n",
              "      <td>0</td>\n",
              "      <td>0</td>\n",
              "      <td>0</td>\n",
              "      <td>0</td>\n",
              "      <td>0</td>\n",
              "      <td>0</td>\n",
              "      <td>0</td>\n",
              "      <td>0</td>\n",
              "      <td>0</td>\n",
              "      <td>0</td>\n",
              "      <td>0</td>\n",
              "      <td>0</td>\n",
              "      <td>0</td>\n",
              "      <td>0</td>\n",
              "      <td>0</td>\n",
              "      <td>0</td>\n",
              "      <td>0</td>\n",
              "      <td>0</td>\n",
              "      <td>0</td>\n",
              "      <td>0</td>\n",
              "      <td>0</td>\n",
              "      <td>0</td>\n",
              "      <td>0</td>\n",
              "      <td>0</td>\n",
              "      <td>0</td>\n",
              "      <td>0</td>\n",
              "      <td>0</td>\n",
              "      <td>0</td>\n",
              "      <td>...</td>\n",
              "      <td>0</td>\n",
              "      <td>0</td>\n",
              "      <td>0</td>\n",
              "      <td>0</td>\n",
              "      <td>0</td>\n",
              "      <td>0</td>\n",
              "      <td>0</td>\n",
              "      <td>0</td>\n",
              "      <td>0</td>\n",
              "      <td>1</td>\n",
              "      <td>0</td>\n",
              "      <td>0</td>\n",
              "      <td>0</td>\n",
              "      <td>0</td>\n",
              "      <td>0</td>\n",
              "      <td>0</td>\n",
              "      <td>0</td>\n",
              "      <td>0</td>\n",
              "      <td>0</td>\n",
              "      <td>0</td>\n",
              "      <td>0</td>\n",
              "      <td>0</td>\n",
              "      <td>0</td>\n",
              "      <td>0</td>\n",
              "      <td>0</td>\n",
              "      <td>0</td>\n",
              "      <td>0</td>\n",
              "      <td>0</td>\n",
              "      <td>0</td>\n",
              "      <td>0</td>\n",
              "      <td>0</td>\n",
              "      <td>0</td>\n",
              "      <td>0</td>\n",
              "      <td>0</td>\n",
              "      <td>0</td>\n",
              "      <td>0</td>\n",
              "      <td>0</td>\n",
              "      <td>0</td>\n",
              "      <td>0</td>\n",
              "      <td>0</td>\n",
              "    </tr>\n",
              "  </tbody>\n",
              "</table>\n",
              "<p>2 rows × 377 columns</p>\n",
              "</div>"
            ],
            "text/plain": [
              "     secondary_description  primary_description_THEFT  ...  hour_3  hour_4\n",
              "0  DOMESTIC BATTERY SIMPLE                          0  ...       0       0\n",
              "1                   SIMPLE                          0  ...       0       0\n",
              "\n",
              "[2 rows x 377 columns]"
            ]
          },
          "metadata": {
            "tags": []
          },
          "execution_count": 47
        }
      ]
    },
    {
      "cell_type": "code",
      "metadata": {
        "id": "l8hb0pgexdPe",
        "colab_type": "code",
        "colab": {
          "base_uri": "https://localhost:8080/",
          "height": 34
        },
        "outputId": "79bb89bd-d75c-47b1-ee49-3af655950e0e"
      },
      "source": [
        "df.shape"
      ],
      "execution_count": 48,
      "outputs": [
        {
          "output_type": "execute_result",
          "data": {
            "text/plain": [
              "(232015, 377)"
            ]
          },
          "metadata": {
            "tags": []
          },
          "execution_count": 48
        }
      ]
    },
    {
      "cell_type": "markdown",
      "metadata": {
        "id": "nLxy0QvRS63e",
        "colab_type": "text"
      },
      "source": [
        "# **Define X and Y**"
      ]
    },
    {
      "cell_type": "code",
      "metadata": {
        "id": "wZjhq716S7w9",
        "colab_type": "code",
        "colab": {}
      },
      "source": [
        "x= df.iloc[:, 1:].values\n",
        "y= df.iloc[:, 0].values"
      ],
      "execution_count": 49,
      "outputs": []
    },
    {
      "cell_type": "markdown",
      "metadata": {
        "id": "9kbSJVERN0Yo",
        "colab_type": "text"
      },
      "source": [
        "# **Label Encode output column**"
      ]
    },
    {
      "cell_type": "code",
      "metadata": {
        "id": "PISJH-ZHNuCR",
        "colab_type": "code",
        "colab": {}
      },
      "source": [
        "lebel_encoder_y= preprocessing.LabelEncoder()\n",
        "y= lebel_encoder_y.fit_transform(y)"
      ],
      "execution_count": 50,
      "outputs": []
    },
    {
      "cell_type": "markdown",
      "metadata": {
        "id": "XyBkgzPbQHGn",
        "colab_type": "text"
      },
      "source": [
        "# **Train Test Split**\n",
        "[traintestsplit](https://kite.com/python/docs/sklearn.model_selection.train_test_split)"
      ]
    },
    {
      "cell_type": "code",
      "metadata": {
        "id": "EQ34CrOGQHt7",
        "colab_type": "code",
        "colab": {}
      },
      "source": [
        "x_train, x_test, y_train, y_test = train_test_split(x, y, test_size=0.20, random_state=42)"
      ],
      "execution_count": 51,
      "outputs": []
    },
    {
      "cell_type": "markdown",
      "metadata": {
        "id": "QGgfbgJwDIag",
        "colab_type": "text"
      },
      "source": [
        "# **Models**"
      ]
    },
    {
      "cell_type": "markdown",
      "metadata": {
        "id": "OvVf7zZdDInW",
        "colab_type": "text"
      },
      "source": [
        "## **Decission Tree**"
      ]
    },
    {
      "cell_type": "markdown",
      "metadata": {
        "id": "OtkEotjmILGn",
        "colab_type": "text"
      },
      "source": [
        "```\n",
        "dt= DecisionTreeClassifier(criterion=\"entropy\")\n",
        "dt.fit(x_train,y_train)\n",
        "y_pred = dt.predict(x_test)\n",
        "accuracy = accuracy_score(y_test, y_pred)\n",
        "# Sound An allarm\n",
        "from google.colab import output\n",
        "for a in range(3):\n",
        "    output.eval_js('new Audio(\"https://upload.wikimedia.org/wikipedia/commons/0/05/Beep-09.ogg\").play()')\n",
        "```"
      ]
    },
    {
      "cell_type": "code",
      "metadata": {
        "id": "ROYDAuV9JWj8",
        "colab_type": "code",
        "colab": {
          "base_uri": "https://localhost:8080/",
          "height": 34
        },
        "outputId": "10377452-530f-4d0c-c191-0a4be7718177"
      },
      "source": [
        "print(accuracy)"
      ],
      "execution_count": null,
      "outputs": [
        {
          "output_type": "stream",
          "text": [
            "0.6054565437579467\n"
          ],
          "name": "stdout"
        }
      ]
    },
    {
      "cell_type": "markdown",
      "metadata": {
        "id": "pwwofoDNNwLx",
        "colab_type": "text"
      },
      "source": [
        "# **Saving Decission Tree**"
      ]
    },
    {
      "cell_type": "code",
      "metadata": {
        "id": "QA5GT181NDRP",
        "colab_type": "code",
        "colab": {}
      },
      "source": [
        "pkl_filename = \"dt_model.pkl\"\n",
        "with open(pkl_filename, 'wb') as file:\n",
        "    pickle.dump(dt, file)"
      ],
      "execution_count": 89,
      "outputs": []
    },
    {
      "cell_type": "markdown",
      "metadata": {
        "id": "myVx26HcxVSA",
        "colab_type": "text"
      },
      "source": [
        "# **Converting Input X for Model Input**"
      ]
    },
    {
      "cell_type": "code",
      "metadata": {
        "id": "I1BhORs_Rer-",
        "colab_type": "code",
        "colab": {}
      },
      "source": [
        "def category_for_model_encoding(category):\n",
        "    \"\"\"\n",
        "    This encoder transforms the categories list provided by the user and it will convert it according to the inpput required for the model\n",
        "    category: List of values containing [column_name+\"_\"+Label]\n",
        "    \"\"\"\n",
        "    # Get Number Of input Variables and Column Names\n",
        "    columns= list(df.columns)\n",
        "    del columns[0]\n",
        "\n",
        "    # Create Zeros List\n",
        "    input_x= [0]*len(columns)\n",
        "\n",
        "    # Category contains all the label values to encode\n",
        "    for cat in category:\n",
        "        for i, col in enumerate(columns, start=0):\n",
        "            if cat == col:\n",
        "                input_x[i]=1\n",
        "\n",
        "    a=[0]\n",
        "    a[0]= input_x\n",
        "    a= pd.array(input_x)\n",
        "    a= np.reshape(a, (1,-1))\n",
        "\n",
        "    return a"
      ],
      "execution_count": 158,
      "outputs": []
    },
    {
      "cell_type": "code",
      "metadata": {
        "id": "CAeWuIf6R8jM",
        "colab_type": "code",
        "colab": {}
      },
      "source": [
        "#Adding Column Names and Their label to put in the List Category\n",
        "col_name= \"hour\"\n",
        "label= \"4\"\n",
        "category= []\n",
        "category.append(col_name+\"_\"+label)"
      ],
      "execution_count": 161,
      "outputs": []
    },
    {
      "cell_type": "markdown",
      "metadata": {
        "id": "kWm4YK60wG0_",
        "colab_type": "text"
      },
      "source": [
        "# **Saving Label encoder for Y**"
      ]
    },
    {
      "cell_type": "code",
      "metadata": {
        "id": "14LKjPnrvGMc",
        "colab_type": "code",
        "colab": {}
      },
      "source": [
        "pkl_filename = \"label_decoder_y.sav\"\n",
        "with open(pkl_filename, 'wb') as file:\n",
        "    pickle.dump(lebel_encoder_y, file)"
      ],
      "execution_count": 163,
      "outputs": []
    },
    {
      "cell_type": "markdown",
      "metadata": {
        "id": "HlOcxu67wNY2",
        "colab_type": "text"
      },
      "source": [
        "## **Loading Label decoder**"
      ]
    },
    {
      "cell_type": "code",
      "metadata": {
        "id": "kh3JcUvUvljM",
        "colab_type": "code",
        "colab": {
          "base_uri": "https://localhost:8080/",
          "height": 34
        },
        "outputId": "e670c553-cd06-4522-bcca-b1211ab78821"
      },
      "source": [
        "pkl_filename = \"label_decoder_y.sav\"\n",
        "with open(pkl_filename, 'rb') as file:\n",
        "    label_encoder_y = pickle.load(file)\n",
        "label_encoder_y.inverse_transform(Ypredict)"
      ],
      "execution_count": 155,
      "outputs": [
        {
          "output_type": "execute_result",
          "data": {
            "text/plain": [
              "array(['BY FIRE'], dtype=object)"
            ]
          },
          "metadata": {
            "tags": []
          },
          "execution_count": 155
        }
      ]
    },
    {
      "cell_type": "code",
      "metadata": {
        "id": "NXgyZpj_cdvg",
        "colab_type": "code",
        "colab": {
          "base_uri": "https://localhost:8080/",
          "height": 34
        },
        "outputId": "9ba7679f-2e15-4a4a-a8d3-58e63e64071d"
      },
      "source": [
        "## predict using the loaded model\n",
        "Ypredict = pickle_model.predict(a)\n",
        "lebel_encoder_y.inverse_transform(Ypredict)"
      ],
      "execution_count": 153,
      "outputs": [
        {
          "output_type": "execute_result",
          "data": {
            "text/plain": [
              "array(['BY FIRE'], dtype=object)"
            ]
          },
          "metadata": {
            "tags": []
          },
          "execution_count": 153
        }
      ]
    },
    {
      "cell_type": "markdown",
      "metadata": {
        "id": "ENh1XJCe0U9p",
        "colab_type": "text"
      },
      "source": [
        "# **Saving Input Encoder Method for Model**"
      ]
    },
    {
      "cell_type": "code",
      "metadata": {
        "id": "VIE1gTfS0VKz",
        "colab_type": "code",
        "colab": {}
      },
      "source": [
        "pkl_filename = \"encoder_input.sav\"\n",
        "with open(pkl_filename, 'wb') as file:\n",
        "    pickle.dump(category_for_model_encoding, file)"
      ],
      "execution_count": 160,
      "outputs": []
    },
    {
      "cell_type": "markdown",
      "metadata": {
        "id": "nE4naO1a1vy5",
        "colab_type": "text"
      },
      "source": [
        "## **Loading Encoder Method**"
      ]
    },
    {
      "cell_type": "code",
      "metadata": {
        "id": "2A8lhxGG0VXF",
        "colab_type": "code",
        "colab": {
          "base_uri": "https://localhost:8080/",
          "height": 204
        },
        "outputId": "ebf8a661-6a38-44b4-ca3a-abedd9b4c034"
      },
      "source": [
        "pkl_filename = \"encoder_input.sav\"\n",
        "with open(pkl_filename, 'rb') as file:\n",
        "    category_for_model_encoding = pickle.load(file)\n",
        "print(category_for_model_encoding(category))"
      ],
      "execution_count": 162,
      "outputs": [
        {
          "output_type": "stream",
          "text": [
            "[[0 0 0 0 0 0 0 0 0 0 0 0 0 0 0 0 0 0 0 0 0 0 0 0 0 0 0 0 0 0 0 0 0 0 0 0\n",
            "  0 0 0 0 0 0 0 0 0 0 0 0 0 0 0 0 0 0 0 0 0 0 0 0 0 0 0 0 0 0 0 0 0 0 0 0\n",
            "  0 0 0 0 0 0 0 0 0 0 0 0 0 0 0 0 0 0 0 0 0 0 0 0 0 0 0 0 0 0 0 0 0 0 0 0\n",
            "  0 0 0 0 0 0 0 0 0 0 0 0 0 0 0 0 0 0 0 0 0 0 0 0 0 0 0 0 0 0 0 0 0 0 0 0\n",
            "  0 0 0 0 0 0 0 0 0 0 0 0 0 0 0 0 0 0 0 0 0 0 0 0 0 0 0 0 0 0 0 0 0 0 0 0\n",
            "  0 0 0 0 0 0 0 0 0 0 0 0 0 0 0 0 0 0 0 0 0 0 0 0 0 0 0 0 0 0 0 0 0 0 0 0\n",
            "  0 0 0 0 0 0 0 0 0 0 0 0 0 0 0 0 0 0 0 0 0 0 0 0 0 0 0 0 0 0 0 0 0 0 0 0\n",
            "  0 0 0 0 0 0 0 0 0 0 0 0 0 0 0 0 0 0 0 0 0 0 0 0 0 0 0 0 0 0 0 0 0 0 0 0\n",
            "  0 0 0 0 0 0 0 0 0 0 0 0 0 0 0 0 0 0 0 0 0 0 0 0 0 0 0 0 0 0 0 0 0 0 0 0\n",
            "  0 0 0 0 0 0 0 0 0 0 0 0 0 0 0 0 0 0 0 0 0 0 0 0 0 0 0 0 0 0 0 0 0 0 0 0\n",
            "  0 0 0 0 0 0 0 0 0 0 0 0 0 0 0 1]]\n"
          ],
          "name": "stdout"
        }
      ]
    },
    {
      "cell_type": "markdown",
      "metadata": {
        "id": "iuxcEyAd0lHG",
        "colab_type": "text"
      },
      "source": [
        "# **ROUGH**"
      ]
    },
    {
      "cell_type": "markdown",
      "metadata": {
        "id": "j200OU53NwWm",
        "colab_type": "text"
      },
      "source": [
        "## Pickle Saving and loading Models/Functions\n",
        "```\n",
        "import pickle\n",
        "\n",
        "#\n",
        "# Create your model here (same as above)\n",
        "#\n",
        "\n",
        "# Save to file in the current working directory\n",
        "pkl_filename = \"pickle_model.pkl\"\n",
        "with open(pkl_filename, 'wb') as file:\n",
        "    pickle.dump(model, file)\n",
        "\n",
        "# Load from file\n",
        "with open(pkl_filename, 'rb') as file:\n",
        "    pickle_model = pickle.load(file)\n",
        "    \n",
        "# Calculate the accuracy score and predict target values\n",
        "score = pickle_model.score(Xtest, Ytest)\n",
        "print(\"Test score: {0:.2f} %\".format(100 * score))\n",
        "Ypredict = pickle_model.predict(Xtest)\n",
        "\n",
        "# Saving Label Encoder\n",
        "pkl_filename = \"label_encoder_y.sav\"\n",
        "with open(pkl_filename, 'wb') as file:\n",
        "    pickle.dump(lebel_encoder_y, file)\n",
        "\n",
        "# Loading Label Encoder\n",
        "pkl_filename = \"label_encoder_y.sav\"\n",
        "with open(pkl_filename, 'rb') as file:\n",
        "    label_encoder_y = pickle.load(file)\n",
        "label_encoder_y.inverse_transform(Ypredict)\n",
        "```"
      ]
    }
  ]
}